{
  "nbformat": 4,
  "nbformat_minor": 0,
  "metadata": {
    "colab": {
      "provenance": []
    },
    "kernelspec": {
      "name": "python3",
      "display_name": "Python 3"
    },
    "language_info": {
      "name": "python"
    }
  },
  "cells": [
    {
      "cell_type": "code",
      "execution_count": 1,
      "metadata": {
        "colab": {
          "base_uri": "https://localhost:8080/"
        },
        "id": "nhCFJWM0V7ow",
        "outputId": "dcb78a2e-42f5-4396-fe6a-65d646d2acfa"
      },
      "outputs": [
        {
          "output_type": "stream",
          "name": "stdout",
          "text": [
            "Mounted at /content/drive\n"
          ]
        }
      ],
      "source": [
        "\n",
        "from google.colab import drive\n",
        "drive.mount('/content/drive')\n"
      ]
    },
    {
      "cell_type": "code",
      "source": [
        "cd /content/drive/MyDrive/custom"
      ],
      "metadata": {
        "colab": {
          "base_uri": "https://localhost:8080/"
        },
        "id": "arvHQ90xWDQu",
        "outputId": "5a052e8d-672c-4974-ea22-119d14c5445b"
      },
      "execution_count": 2,
      "outputs": [
        {
          "output_type": "stream",
          "name": "stdout",
          "text": [
            "/content/drive/MyDrive/custom\n"
          ]
        }
      ]
    },
    {
      "cell_type": "code",
      "source": [
        "data_path = '/content/drive/MyDrive/custom/nepaliintents.json'\n"
      ],
      "metadata": {
        "id": "UJOzVpJEWQPL"
      },
      "execution_count": 3,
      "outputs": []
    },
    {
      "cell_type": "code",
      "source": [
        "import json\n",
        "import time\n",
        "import re\n",
        "import os\n",
        "import pandas as pd\n",
        "import numpy as np\n",
        "import matplotlib.pyplot as plt\n",
        "import random\n",
        "import string\n",
        "import nltk\n",
        "\n",
        "from sklearn.model_selection import train_test_split\n",
        "\n",
        "import tensorflow as tf\n",
        "from tensorflow.keras import layers\n",
        "from tensorflow.keras import backend as K\n",
        "from tensorflow.keras.preprocessing.text import Tokenizer\n",
        "from tensorflow.keras.layers import TextVectorization\n",
        "from tensorflow.keras.preprocessing.sequence import pad_sequences\n",
        "from sklearn.preprocessing import LabelEncoder"
      ],
      "metadata": {
        "id": "eFv9zyI5WTEZ"
      },
      "execution_count": 5,
      "outputs": []
    },
    {
      "cell_type": "code",
      "source": [
        "def read_data(file_path):\n",
        "  pairs = []\n",
        "  with open(data_path, 'r') as f:\n",
        "    data = json.load(f)\n",
        "\n",
        "  return data"
      ],
      "metadata": {
        "id": "6FPtdM6eWVXP"
      },
      "execution_count": 6,
      "outputs": []
    },
    {
      "cell_type": "code",
      "source": [
        "data = read_data(data_path)\n"
      ],
      "metadata": {
        "id": "5F9TsQLoWXKl"
      },
      "execution_count": 7,
      "outputs": []
    },
    {
      "cell_type": "code",
      "source": [
        "training_sentences = []\n",
        "training_labels = []\n",
        "labels = []\n",
        "responses = []\n",
        "val_sentences = []\n",
        "val_labels = []\n",
        "\n",
        "for intent in data['intents']:\n",
        "    num_patterns = len(intent['patterns'])\n",
        "    num_train = int(0.8 * num_patterns)  # Adjust the split ratio as needed\n",
        "\n",
        "    for i, pattern in enumerate(intent['patterns']):\n",
        "        if i >= num_train:\n",
        "            val_sentences.append(pattern)\n",
        "            val_labels.append(intent['tag'])\n",
        "        else:\n",
        "            training_sentences.append(pattern)\n",
        "            training_labels.append(intent['tag'])\n",
        "\n",
        "    responses.append(intent['responses'])\n",
        "\n",
        "    if intent['tag'] not in labels:\n",
        "        labels.append(intent['tag'])\n",
        "\n",
        "NUM_CLASSES = len(labels)\n",
        "print(NUM_CLASSES)\n"
      ],
      "metadata": {
        "colab": {
          "base_uri": "https://localhost:8080/"
        },
        "id": "w2QViodsgPh2",
        "outputId": "03fc1cff-3155-4a02-cf0f-3840bbba113c"
      },
      "execution_count": 8,
      "outputs": [
        {
          "output_type": "stream",
          "name": "stdout",
          "text": [
            "69\n"
          ]
        }
      ]
    },
    {
      "cell_type": "code",
      "source": [
        "print(len(val_labels))"
      ],
      "metadata": {
        "colab": {
          "base_uri": "https://localhost:8080/"
        },
        "id": "ZMcB8wg9ft-M",
        "outputId": "a47525ca-4614-42e4-d129-1ebe9bab9452"
      },
      "execution_count": 9,
      "outputs": [
        {
          "output_type": "stream",
          "name": "stdout",
          "text": [
            "145\n"
          ]
        }
      ]
    },
    {
      "cell_type": "code",
      "source": [
        "print(len(training_labels))"
      ],
      "metadata": {
        "colab": {
          "base_uri": "https://localhost:8080/"
        },
        "id": "D92a_8YTfzwV",
        "outputId": "bad0a842-8ef5-433d-e053-d37f196a9603"
      },
      "execution_count": 10,
      "outputs": [
        {
          "output_type": "stream",
          "name": "stdout",
          "text": [
            "548\n"
          ]
        }
      ]
    },
    {
      "cell_type": "code",
      "source": [
        "print(labels)"
      ],
      "metadata": {
        "colab": {
          "base_uri": "https://localhost:8080/"
        },
        "id": "gKBF2qfhWenS",
        "outputId": "8a305760-ec83-4abb-f8b5-c4f702937b66"
      },
      "execution_count": 11,
      "outputs": [
        {
          "output_type": "stream",
          "name": "stdout",
          "text": [
            "['greeting', 'goodbye', 'location', 'aboutme', 'registration', 'faculty', 'extracurriculumactivities', 'collegetime', 'clubs', 'programs', 'error', 'computerengineeringseats', 'civilengineeringseats', 'architectureseats', 'electronicsengineeringseats', 'contactnumber', 'admissiondocuments', 'other', 'diploma', 'computerhod', 'electricalhod', 'civilhod', 'electronicshod', 'architecturehod', 'principal', 'chairman', 'viceprincipal', 'civilfacultymembers', 'electricalfacultymembers', 'electronicsfacultymembers', 'architecturefacultymembers', 'feestructure', 'scholarshipscheme', 'accomodationfacilities', 'collegedays', 'studentnumber', 'teachernumber', 'establish', 'creator', 'building', 'library', 'resources', 'computerfacultymembers', 'attendance', 'disqualification', 'idcard', 'uniform', 'clubsintro', 'electricalclub', 'roboticsclub', 'epclub', 'akarclub', 'itclub', 'cesaclub', 'yogaclub', 'boyshostel', 'girlshostel', 'projectinfo', 'computerprojects', 'electronicsprojects', 'electricalprojects', 'civilprojects', 'defenseproject', 'departmentlocation', 'electricalcurriculum', 'architecturecurriculum', 'bct8thsemroutine', 'adtroutine', 'examroutine']\n"
          ]
        }
      ]
    },
    {
      "cell_type": "code",
      "source": [
        "train_pairs = []\n",
        "val_pairs = []\n",
        "for i in range(len(training_sentences)):\n",
        "  train_pairs.append((training_sentences[i], training_labels[i]))\n",
        "\n",
        "for i in range(len(val_sentences)):\n",
        "  val_pairs.append((val_sentences[i], val_labels[i]))\n",
        "\n",
        "random.shuffle(train_pairs)\n",
        "random.shuffle(val_pairs)"
      ],
      "metadata": {
        "id": "-rIwc8ZqWbBF"
      },
      "execution_count": 12,
      "outputs": []
    },
    {
      "cell_type": "code",
      "source": [
        "print(train_pairs)\n",
        "print(len(train_pairs))"
      ],
      "metadata": {
        "colab": {
          "base_uri": "https://localhost:8080/"
        },
        "id": "EJsukYN1g-ha",
        "outputId": "173c0fed-bdaa-48fd-8617-cd022a39411c"
      },
      "execution_count": 13,
      "outputs": [
        {
          "output_type": "stream",
          "name": "stdout",
          "text": [
            "[('केईसीका उपप्रमुख को हुन् ?', 'viceprincipal'), ('faculty', 'faculty'), ('के म तपाईको कलेजको शुल्क संरचना बारे जानकारी पाउन सक्छु?', 'feestructure'), ('college ko vice principal ko ho', 'viceprincipal'), ('kec को प्रमुख को हो?', 'principal'), ('electronics engineering ma kati ota seat huncha?', 'electronicsengineeringseats'), ('कुन कुन क्लबहरू छन्?', 'clubs'), ('malai bct ko 8th sem ko dincharya pradan garnuhos', 'bct8thsemroutine'), ('architecture faculty ko hod ko ho', 'architecturehod'), ('boys hostel कसरी दर्ता गर्ने?', 'boyshostel'), ('BArch पाठ्यक्रम', 'architecturecurriculum'), ('सिविलको संकाय सदस्य कोको हुन् ?', 'civilfacultymembers'), ('college ko time k ho?', 'collegetime'), ('iv/ii board exam routine', 'examroutine'), ('project pani exam ho', 'projectinfo'), ('इलेक्ट्रोनिक्स परियोजना क्लब के हो', 'epclub'), ('काठमाडौं इन्जिनियरिङ कलेजमा कस्ता क्लबहरू छन्?', 'clubsintro'), ('इलेक्ट्रोनिक्स विभागमा कतिवटा प्रोजेक्ट बुझाउनुपर्छ', 'electronicsprojects'), ('के.इ.सी.मा दर्ता गर्ने प्रक्रिया', 'registration'), ('पार्किङ कहाँ छ', 'departmentlocation'), ('मलाई कम्प्युटर संकायको 8th sem ko दिनचर्या प्रदान गर्नुहोस्', 'bct8thsemroutine'), ('सुन', 'greeting'), ('अयोग्यता मापदण्ड', 'disqualification'), ('हामीसँग एउटा प्रोजेक्ट मा \\u200b\\u200bकति डिफेन्स छ', 'defenseproject'), ('अनलाइन दर्ता', 'registration'), ('electrical club के हो', 'electricalclub'), ('electronics engineering ma ma kati wota project haru submit garnuparcha', 'electronicsprojects'), ('केईसी आईटी क्लब', 'itclub'), ('computer faculty ma kati seat huncha?', 'computerengineeringseats'), ('न्यूनतम उपस्थिति आवश्यक', 'attendance'), ('हाजिरी कति चाहिँछ', 'attendance'), ('kecमा girls होस्टेल छ?', 'girlshostel'), ('electrical club व्याख्या', 'electricalclub'), ('civil faculty ko hod ko ho', 'civilhod'), ('cesa kec व्याख्या', 'cesaclub'), ('BCT ko hod ko ho?', 'computerhod'), ('zxcvbnm', 'error'), ('Bel ma kati ota seat huncha?', 'electronicsengineeringseats'), ('computer engineering ma kati ota seat huncha?', 'computerengineeringseats'), ('diploma', 'diploma'), ('computer engineering ma ma kati wota project haru submit garnuparcha', 'computerprojects'), ('BEL पाठ्यक्रम', 'electricalcurriculum'), ('Number of students', 'studentnumber'), ('आईडी कार्ड भनेको के हो', 'idcard'), ('सिभिल विभाग कहाँ छ', 'departmentlocation'), ('Electronics engineering ma kati ota seat huncha?', 'electronicsengineeringseats'), ('college kahile suru vako ho?', 'establish'), ('other', 'other'), ('attendance kati samma hunu parcha', 'attendance'), ('yaha extracurriculum activites haru k k hucha?', 'extracurriculumactivities'), ('कम्प्युटर इन्जिनियरिङ संकाय सदस्यहरू', 'computerfacultymembers'), ('wifi', 'resources'), ('k k eca haru huncha?', 'extracurriculumactivities'), ('आईडीकार्डको बारेमा', 'idcard'), ('computer department ma kati jana teacher xan?', 'teachernumber'), ('सिभिल इन्जिनियरिङमा कति सिट हुन्छ?', 'civilengineeringseats'), ('roboticsclub व्याख्या', 'roboticsclub'), ('routine of computer faculty adt', 'adtroutine'), ('it क्लब व्याख्या', 'itclub'), ('kec college ma kati club chan', 'clubsintro'), ('electonics ko hod ho?', 'electronicshod'), ('euta project vari ma kati wota defense lincha', 'defenseproject'), ('कति घण्टा पढाई हुन्छ?', 'collegetime'), ('electronics engineering seats', 'electronicsengineeringseats'), ('प्रोजेक्ट पनि परीक्षा हो', 'projectinfo'), ('फ्रान्स दुई पल्ट विश्वकप जित्ने तेस्रो टिम', 'error'), ('library', 'library'), ('कहिले स्थापना भएको हो?', 'establish'), ('अरु?', 'other'), ('electrical ko faculty member', 'electricalfacultymembers'), ('हामीले कम्प्युटरमा कतिवटा प्रोजेक्टहरू गर्नुपर्छ', 'computerprojects'), ('BCE hod', 'civilhod'), ('roboticsclub k ho', 'roboticsclub'), ('electronics engineering ko hod ko ho', 'electronicshod'), ('के डिप्लोमा कोर्स छ?', 'diploma'), ('college ma hostel cha ki chaina?', 'accomodationfacilities'), ('college ko location?', 'location'), ('kec ko adakshya ko ho?', 'chairman'), ('exam dinu kati attendance chahincha', 'attendance'), ('BCE faculty member list', 'civilfacultymembers'), ('के कुनै सेमेस्टरमा प्रोजेक्ट गर्नुपर्छ?', 'projectinfo'), ('kec ma kasari darta garney?', 'registration'), ('kec dress k ho', 'uniform'), ('केईसी it क्लब के हो', 'itclub'), ('computer hod', 'computerhod'), ('electrical faculty member', 'electricalfacultymembers'), ('विद्यार्थी कसरी परीक्षा दिन अयोग्य छन्', 'disqualification'), ('girls hostel कसरी दर्ता गर्ने?', 'girlshostel'), ('software', 'resources'), ('एनक्यू कसरी लगचा', 'disqualification'), ('prinipal ko naam?', 'principal'), ('tapai ko ho?', 'aboutme'), ('अनी?', 'other'), ('kec पोशाक', 'uniform'), ('kec ma boys hostel ko kasto bywasta cha', 'boyshostel'), ('hapta ma kati din college lagcha?', 'collegedays'), ('कलेजको प्रिन्सिपल को हो?', 'principal'), ('अतिरिक्त पाठ्यक्रम गतिविधिहरु पनि हुन्छ?', 'extracurriculumactivities'), ('program haru kati ko huncha?', 'programs'), ('robotics के हो', 'roboticsclub'), ('kun kun eca huncha', 'extracurriculumactivities'), ('कलेजमा कति भवनहरु छन्?', 'building'), ('id card vaneko k ho', 'idcard'), ('नमस्ते', 'greeting'), ('योग क्लब के हो', 'yogaclub'), ('civil faculty member', 'civilfacultymembers'), ('प्रोजेक्ट मा \\u200b\\u200bकति डिफेन्स लिइन्छ?', 'defenseproject'), ('कलेज कता छ?', 'location'), ('tmi ko ho?', 'aboutme'), ('computer ko seat kati ho?', 'computerengineeringseats'), ('kec it क्लब', 'itclub'), ('मलाई कलेज को नम्बर दिनु त', 'contactnumber'), ('civil engineering ma kati ota seat huncha?', 'civilengineeringseats'), ('adt routine', 'adtroutine'), ('fee kati tirnu parcha?', 'feestructure'), ('kec को प्रधान अध्यापक को हो?', 'principal'), ('सिविल संकाय सदस्य ', 'civilfacultymembers'), ('eca haru k k huncha?', 'extracurriculumactivities'), ('tapa chei ko ho ni?', 'error'), ('इलेक्ट्रिकलमा कुल प्रोजेक्टहरू', 'electricalprojects'), ('accomodation facilities', 'accomodationfacilities'), ('BCE ma kati ota seat huncha?', 'civilengineeringseats'), ('इलेक्ट्रिकल संकाय को लागि पाठ्यक्रम के हो', 'electricalcurriculum'), ('ओए', 'greeting'), ('exam dinu kasto bela paidaina', 'disqualification'), ('तपाई को कालेजको नंबर कती हो?', 'contactnumber'), ('सिभिल इन्जिनियरिङमा सिट कति छ?', 'civilengineeringseats'), ('कलेजको पोशाक के हो', 'uniform'), ('iv/ii board exam routine', 'examroutine'), ('girls hostel kata cha?', 'girlshostel'), ('asdf', 'error'), (' yogaclub भनेको के हो', 'yogaclub'), ('vice prinipal ko naam?', 'viceprincipal'), ('यस कलेजको उपप्राचार्य को हुनुहुन्छ?', 'viceprincipal'), ('BEX faculty members', 'electronicsfacultymembers'), ('के हामीले हरेक सेमेस्टरमा प्रोजेक्ट गर्नुपर्छ', 'projectinfo'), ('इलेक्ट्रोनिक्सको  शिक्षकहरूको सूची', 'electronicsfacultymembers'), ('कलेजको समय कति ह', 'error'), ('केईसी आर्किटेक्चर को संघ व्याख्या', 'akarclub'), ('architecture ko pathyakram', 'architecturecurriculum'), ('scholarship kasari paincha', 'scholarshipscheme'), ('civil hod', 'civilhod'), ('civil engineering seats', 'civilengineeringseats'), ('kec kaha cha?', 'location'), ('सिभिल प्रोजेक्टहरूको संख्या', 'civilprojects'), ('civil ma kati wota project haru garnu parcha', 'civilprojects'), ('कलेज कहिले स्थापना भएको हो?', 'establish'), ('kati jana teacher chan?', 'teachernumber'), ('syllabus ma project pani cha', 'projectinfo'), ('कलेजमा कति विद्यार्थी छन्?', 'studentnumber'), ('हेल्लो', 'greeting'), ('kec ma bidyarthi kati chan', 'studentnumber'), ('civil depatment ma kati wota project haru submit garnuparcha', 'civilprojects'), ('केईसी मा कुनै क्लब छ', 'clubsintro'), ('see ya', 'goodbye'), ('admission garna k k chaincha?', 'admissiondocuments'), ('civil ko hod ho?', 'civilhod'), ('पोशाक रंग', 'uniform'), ('chairman name?', 'chairman'), ('aru?', 'other'), ('computer faculty ko fee kati cha?', 'feestructure'), ('tapai ko college ma k k karyakram huncha?', 'programs'), ('computer faculty ma ko ko cha?', 'computerfacultymembers'), ('college days', 'collegedays'), ('कलेजमा कति भवनहरू छन्?', 'building'), ('kec ma lab ko subhida cha?', 'resources'), ('routine computer 4th year 2nd part', 'bct8thsemroutine'), ('BCT faculty member haru ko list', 'computerfacultymembers'), ('cesa kec के हो', 'cesaclub'), ('कम्प्युटर इन्जिनियरिङ् को HOD को हो?', 'computerhod'), ('civil hod', 'civilhod'), ('architecture ma seat kati cha?', 'architectureseats'), ('How to register at KEC?', 'registration'), ('aba aaune adt ko routine pradan garnu hos', 'adtroutine'), ('हाम्रो च्याटबोटलाई नमस्ते', 'greeting'), ('scholarship ko lagi k garnu parcha?', 'scholarshipscheme'), ('electrical club bujhaunus', 'electricalclub'), ('कलेजको समय?', 'collegetime'), ('कसरी विद्यार्थीलाई परीक्षामा उपस्थित हुन प्रतिबन्ध लगाउन सकिन्छ', 'disqualification'), ('computer ma seat kati cha?', 'computerengineeringseats'), ('इलेक्ट्रिकलको  शिक्षकहरूको सूची', 'electricalfacultymembers'), ('वास्तुकला संकाय को लागि पाठ्यक्रम के हो', 'architecturecurriculum'), ('establish date', 'establish'), ('hostel', 'accomodationfacilities'), ('vice principal', 'viceprincipal'), ('archi ko hod ho?', 'architecturehod'), ('कलेज दिन कति छन्?', 'collegedays'), ('यो कलेजको प्रिन्सिपल को कार्यालय कहाँ छ', 'departmentlocation'), ('it club के हो', 'itclub'), ('bce ma kati ota seat huncha?', 'civilengineeringseats'), ('kec ma kati jana student chan', 'studentnumber'), ('हप्तामा कति दिन कलेज हुन्छ?', 'collegedays'), ('सिविलको शिक्षकहरूको सूची', 'civilfacultymembers'), ('केईसीमा उपस्थित क्लबहरू के छन्?', 'clubs'), ('who made you', 'creator'), ('tapai chei ko ho ni?', 'aboutme'), ('hal kec ma kati jana student chan', 'studentnumber'), ('college ko chairman ko naam k ho?', 'chairman'), ('adt ko routine pradan garnuhos', 'adtroutine'), ('kati jana huncha computer engineering ma?', 'computerengineeringseats'), ('आईडी कार्ड को बारे मा व्याख्या', 'idcard'), ('CESA-KEC के हो', 'cesaclub'), ('आईडीकार्डको आवश्यकता', 'idcard'), ('इलेक्ट्रोनिक्स प्रोजेक्टहरूको सारांश', 'electronicsprojects'), ('girls hostel cha ki nai?', 'girlshostel'), ('BEL ma kati ota seat huncha?', 'electronicsengineeringseats'), ('architecture ko curriculum k ho?', 'architecturecurriculum'), ('भर्नाका लागि आवश्यक कागजातहरू के के हुन्?', 'admissiondocuments'), ('Malai college ko number dinu na?', 'contactnumber'), ('yo chatbot kasle banayeko ho?', 'creator'), ('kec kaile baneko ho?', 'establish'), ('adt routine', 'adtroutine'), ('yogaclub व्याख्या', 'yogaclub'), ('electrical ko hod ho?', 'electricalhod'), ('कम्प्युटर विभागमा कतिवटा प्रोजेक्ट बुझाउनुपर्छ', 'computerprojects'), ('college clubs haru k k cha?', 'clubs'), ('कलेजको उपप्राचार्य को हो?', 'viceprincipal'), ('इलेक्ट्रिकल प्रोजेक्टहरूको संख्या', 'electricalprojects'), ('routine computer faculty 8th sem', 'bct8thsemroutine'), ('परीक्षामा भाग लिन पुन: उपस्थिति', 'attendance'), ('डेस', 'uniform'), ('kec kata cha?', 'location'), ('civil ko faculty members', 'civilfacultymembers'), (' routine of adt', 'adtroutine'), ('कलेजमा कति शिक्षक छन्?', 'teachernumber'), ('boys hostel cha ki nai?', 'boyshostel'), ('civil engineering ma ma kati wota project haru submit garnuparcha', 'civilprojects'), ('computer depatment ma kati wota project haru submit garnuparcha', 'computerprojects'), ('प्रोजेक्ट को लागि कति डिफेन्स लिनुपर्छ?', 'defenseproject'), ('केईसीमा डिप्लोमा छ?', 'diploma'), (' iv/ii ko board parichya ko routine', 'examroutine'), ('4thyear board exam routine', 'examroutine'), ('नमस्कार', 'greeting'), ('मलाई डिपलेमा पढाई हुन्छ कि हुदैन भन्दिनु न?', 'diploma'), ('kec ma boys hostel cha', 'boyshostel'), ('electronics engineering ma kitna seats hain?', 'electronicsengineeringseats'), ('namaste', 'greeting'), ('yoga क्लबको बारेमा विवरण', 'yogaclub'), ('creator', 'creator'), ('it क्लब', 'itclub'), ('कलेजको पुस्तकालय', 'library'), ('ahile kec ma kati jana student chan', 'studentnumber'), ('admission ko prakriya k ho?', 'admissiondocuments'), ('ec के हो', 'electricalclub'), ('BEX ko hod ko ho?', 'electronicshod'), ('civil engineering ko hod ko ho', 'civilhod'), ('yaha kunkun club chan?', 'clubs'), ('के कलेजमा girls hostel छ?', 'girlshostel'), ('Computer engineering ko HOD ko ho?', 'computerhod'), ('computer department faculty member', 'computerfacultymembers'), ('epc vaneko k ho', 'epclub'), ('वास्तुकलामा कति सिट हुन्छ?', 'architectureseats'), ('kec कहाँ छ?', 'location'), ('kec ko vice principal ko ho', 'viceprincipal'), ('रोबोटिक्सक्लब के हुन्छ?', 'roboticsclub'), ('boys hostel kati dinako lagi rahatipati garidinu parcha?', 'boyshostel'), ('अध्ययन शुरू गर्ने नियम', 'registration'), ('timi ko ho?', 'aboutme'), ('रोबोटिक्सक्लब के हो?', 'roboticsclub'), ('college kati din huncha?', 'collegedays'), ('yesh college ma scholarship scheme kasto cha?', 'scholarshipscheme'), ('k k club haru cha?', 'clubs'), ('Computer engineering ko hod ko ho?', 'computerhod'), ('kec ma diploma cha ki chaina?', 'diploma'), ('kec को पोशाक  के हो', 'uniform'), ('4th year board exam routine', 'examroutine'), ('contact number', 'contactnumber'), ('electrical hod', 'electricalhod'), ('kec it क्लब व्याख्या', 'itclub'), ('fee kati cha?', 'feestructure'), ('आर्किटेक्चरको संकाय सदस्य कोको हुन् ?', 'architecturefacultymembers'), ('cesa club vaneko k ho', 'cesaclub'), ('तपाईको कलेजमा कसरी छात्रवृत्ति प्राप्त गर्न सकिन्छ?', 'scholarshipscheme'), ('teacher number', 'teachernumber'), ('architecture ma kati ota seat huncha?', 'architectureseats'), ('Adt Routine ', 'adtroutine'), ('kecमा boys होस्टेल छ?', 'boyshostel'), ('तपाइलाई कसले बनाएको हो ?', 'creator'), ('कलेज libraryको बारेमा जानकारी', 'library'), ('malai 4th year ko aba aaune parichya ko routine pradan garnu hos?', 'examroutine'), ('योग क्लब', 'yogaclub'), ('कम्प्युटर विभाग कहाँ छ', 'departmentlocation'), ('इलेक्ट्रिकल संकाय सदस्य ', 'electricalfacultymembers'), ('kati ghanta padhai huncha?', 'collegetime'), ('योग क्लब व्याख्या', 'yogaclub'), ('सिभिल इन्जिनियरिङ को H.O.D को हो', 'civilhod'), ('architecture ko hod ko ho', 'architecturehod'), ('ec vaneko k ho', 'electricalclub'), ('सिभिल विभागमा कुल प्रोजेक्टहरूको संख्या', 'civilprojects'), ('इलेक्ट्रोनिक्स विभागमा कुल प्रोजेक्टहरूको संख्या', 'electronicsprojects'), ('तपाईको कलेजमा होस्टेल छ?', 'accomodationfacilities'), ('हामीले इलेक्ट्रिकलमा कतिवटा प्रोजेक्टहरू गर्नुपर्छ', 'electricalprojects'), ('केईसी आर्किटेक्चर संघ', 'akarclub'), ('electical faculty ko hod ko ho', 'electricalhod'), ('kec ma wifi ko subhida cha?', 'resources'), ('तपाईको कलेजमा केके कार्यक्रम हुन्छ?', 'programs'), ('architecture hod', 'architecturehod'), ('computer ko hod?', 'computerhod'), ('BEL faculty members list', 'electricalfacultymembers'), ('electrical पाठ्यक्रम', 'electricalcurriculum'), ('इलेक्ट्रोनिक्स इन्जिनियरिङमा कति सिट हुन्छ?', 'electronicsengineeringseats'), ('id card ko barema bujhaunus', 'idcard'), ('architecture ko hod ko ho?', 'architecturehod'), ('yaha kun kun faculty cha?', 'faculty'), ('electronics faculty member', 'electronicsfacultymembers'), ('chairman', 'chairman'), ('books', 'library'), ('केईसीका अध्यक्ष को हुन् ?', 'chairman'), ('kun kun club haru cha?', 'clubs'), ('akar व्याख्या', 'akarclub'), ('kec ko principal ko ho', 'principal'), ('roboticsclub के हो', 'roboticsclub'), ('defense kati wota huncha', 'defenseproject'), ('तपाई को कालेजको नंबर कती हो?', 'contactnumber'), ('एउटा प्रोजेक्ट को लागि कति डिफेन्स लिइन्छ', 'defenseproject'), ('roboticsclub vaneko k ho', 'roboticsclub'), ('electronics department faculty member', 'electronicsfacultymembers'), ('पोशाक रंग के हुन्छ', 'uniform'), (\"What's your name?\", 'aboutme'), ('आर्किटेक्चर को HOD को हो?', 'architecturehod'), ('सेसा के हो', 'cesaclub'), ('BArch को लागि पाठ्यक्रम के हो', 'architecturecurriculum'), ('halo', 'error'), ('BArch faculty members list', 'architecturefacultymembers'), ('BEL ko hod ko ho?', 'electricalhod'), ('इलेक्ट्रिकल विभागमा कतिवटा प्रोजेक्ट बुझाउनुपर्छ', 'electricalprojects'), ('scholarship kasari pauna sakincha?', 'scholarshipscheme'), ('Electrical ko pathyakram k ho?', 'electricalcurriculum'), ('दिन मा कति घण्टा पढाई हुन्छ?', 'collegetime'), ('Bye', 'goodbye'), ('काठमाडौं इन्जिनियरिङ कलेजमा केके पढाउनुहुन्छ?', 'faculty'), ('अध्यक्षको कार्यालय कहाँ छ', 'departmentlocation'), ('canteen kata cha?', 'departmentlocation'), ('archi ko hod ko ho?', 'architecturehod'), ('civil ma kati seat huncha?', 'civilengineeringseats'), ('college kaha cha?', 'location'), ('tapai ko college ma k k program huncha?', 'programs'), ('college ko hostel cha ki chaina?', 'accomodationfacilities'), ('electrical depatment ma kati wota project haru submit garnuparcha', 'electricalprojects'), ('इलेक्ट्रोनिक्स परियोजना क्लब', 'epclub'), ('students number', 'studentnumber'), ('architrecture faculty member', 'architecturefacultymembers'), ('BCE ko faculty member ko ko ho?', 'civilfacultymembers'), ('यो कलेज कहाँ छ?', 'location'), ('nq kasari lagcha', 'disqualification'), ('योग भनेको के हो', 'yogaclub'), ('काठमाडौं इन्जिनियरिङ कलेजमा कुनै क्लबहरू छन्?', 'clubsintro'), ('भर्नाका लागि के के चाहिन्छ?', 'admissiondocuments'), ('electronics depatment ma kati wota project haru submit garnuparcha', 'electronicsprojects'), ('Computer 8th sem ko routine', 'bct8thsemroutine'), ('कलेजको ड्रेस के हो', 'uniform'), ('Electrical engineering ko pathyakram', 'electricalcurriculum'), ('kec ko स्थापना कहिले भएको हो?', 'establish'), ('kec ma kasari admission garne', 'registration'), ('Information about library', 'library'), ('BEX faculty members list', 'electronicsfacultymembers'), ('akar के हो', 'akarclub'), ('यहा डिप्लोमा पढाई हुन्छ कि हुदैन?', 'diploma'), ('number of buildings', 'building'), ('तपाई को हो?', 'aboutme'), ('ARCHI ma kati ota seat huncha?', 'architectureseats'), ('कलेज हप्तामा कति दिन चल्छ?', 'collegedays'), ('सिभिलमा कुल प्रोजेक्टहरू', 'civilprojects'), ('हामीले इलेक्ट्रोनिक्समा कतिवटा प्रोजेक्टहरू गर्नुपर्छ', 'electronicsprojects'), ('architecture seats', 'architectureseats'), ('इलेक्ट्रोनिक्सको संकाय सदस्य कोको हुन् ?', 'electronicsfacultymembers'), ('CESA-KEC व्याख्या', 'cesaclub'), ('week ma kati din college huncha?', 'collegedays'), ('electrical hod', 'electricalhod'), ('roboticsclub bujhaunus', 'roboticsclub'), ('कम्प्युटरको संकाय सदस्य कोको हुन् ?', 'computerfacultymembers'), ('BCT faculty members', 'computerfacultymembers'), ('name of chairman', 'chairman'), ('college kati bela bata suru huncha?', 'collegetime'), ('computer ma kati wota project haru garnu parcha', 'computerprojects'), ('विद्यार्थी कहिले अयोग्य हुन्छ', 'disqualification'), ('kec it club vaneko k ho', 'itclub'), ('कम्प्युटर इन्जिनियरिङ्गमा कतिवटा प्रोजेक्टहरू सम्पन्न गर्नुपर्छ?', 'computerprojects'), ('epc के हो', 'epclub'), ('मलाई तपाईको कलेजको सम्पर्क नम्बर दिनुहोस्।', 'contactnumber'), ('तपाईको कलेजमा होस्टेलको सुविधा छ?', 'accomodationfacilities'), ('project kun kun sem ma huncha', 'projectinfo'), ('क्लब नाम', 'clubsintro'), ('architecture पाठ्यक्रम', 'architecturecurriculum'), ('इलेक्ट्रोनिक्स इन्जिनियरिङ को HOD को हो', 'electronicshod'), ('kec ma awasyak software haru chan?', 'resources'), ('admission documents', 'admissiondocuments'), ('कलेजको समय कति हो?', 'collegetime'), ('कम्प्युटर इन्जिनियरिङ् को हेड अफ डिपार्टमेन्ट को हो?', 'computerhod'), ('परिचयपत्र', 'idcard'), ('कम्प्युटरमा कुल प्रोजेक्टहरू', 'computerprojects'), ('ए', 'goodbye'), ('club ko naam', 'clubsintro'), ('तपाइँको कलेज मा अतिरिक्त पाठ्यक्रम गतिविधिहरु के गरिन्छ?', 'extracurriculumactivities'), ('epc व्याख्या', 'epclub'), ('kec मा कसरी दर्ता गर्ने', 'registration'), ('routine of computer 4th sem adt', 'adtroutine'), ('इलेक्ट्रिकल विभागमा कुल प्रोजेक्टहरूको संख्या', 'electricalprojects'), ('faculty?', 'faculty'), ('इलेक्ट्रिकल इन्जिनियरिङ्गको पाठ्यक्रम के हो', 'electricalcurriculum'), ('BCEमा कति सिट हुन्छ?', 'civilengineeringseats'), ('scholarship k ko adar ma paincha?', 'scholarshipscheme'), ('electronics project club vaneko k ho', 'epclub'), ('BEL को लागि पाठ्यक्रम के हो', 'electricalcurriculum'), ('yaha diploma padai huncha?', 'diploma'), ('इलेक्ट्रिकल इन्जिनियरिङ् को HOD को हो?', 'electricalhod'), ('electronics faculty ko hod ko ho', 'electronicshod'), ('electronics ko faculty member ko ko ho?', 'electronicsfacultymembers'), ('electrical engineering ma ma kati wota project haru submit garnuparcha', 'electricalprojects'), ('electronics ma kati wota project haru garnu parcha', 'electronicsprojects'), ('electrical department faculty member', 'electricalfacultymembers'), ('अकार क्लब के हो', 'akarclub'), ('architecture department faculty member', 'architecturefacultymembers'), ('इलेक्ट्रोनिक्स इन्जिनियरिङ को HOD को हो?', 'electronicshod'), ('programs', 'programs'), ('kecमा कति ओटा buildings छन्?', 'building'), ('electrical ko curriculum k ho', 'electricalcurriculum'), ('हामीले सिभिलमा कतिवटा प्रोजेक्टहरू गर्नुपर्छ', 'civilprojects'), ('kec ma total students kati chan', 'studentnumber'), ('kec ko chairman ko ho?', 'chairman'), ('kec ma fee structure kasto cha?', 'feestructure'), ('कोले तपाइलाई बनायो?', 'creator'), ('पुस्तकालय कहाँ छ?', 'library'), ('electrical ma kati wota project haru garnu parcha', 'electricalprojects'), ('इलेक्ट्रिकल क्लब के हो?', 'electricalclub'), ('civil department ma kati jana teacher chan?', 'teachernumber'), ('routine computer 8th sem', 'bct8thsemroutine'), ('कम्प्युटर इन्जिनियरिङमा कति सिट हुन्छ?', 'computerengineeringseats'), ('library ko bare ma?', 'library'), ('akar club bujhaunus', 'akarclub'), ('qwerty', 'error'), ('इलेक्ट्रिकल क्लब के हुन्छ?', 'electricalclub'), ('yo college kaha cha?', 'location'), ('computer faculty padhai huncha?', 'faculty'), ('कम्प्युटर संकाय सदस्य ', 'computerfacultymembers'), ('study materials', 'library'), ('registration for kec', 'registration'), ('computer engineering seats', 'computerengineeringseats'), ('BEL hod', 'electricalhod'), ('आर्किटेक्चर  शिक्षकहरूको सूची', 'architecturefacultymembers'), ('college ko principal ko ho', 'principal'), ('अध्यक्षको नाम के हो?', 'chairman'), ('electronics hod', 'electronicshod'), ('boys hostel kata cha?', 'boyshostel'), ('प्रोजेक्ट मा \\u200b\\u200bकुल कति डिफेन्स हुन्छ?', 'defenseproject'), ('hostel ko subhida kasto cha?', 'accomodationfacilities'), ('सेसा', 'cesaclub'), ('इलेक्ट्रिकलको संकाय सदस्य कोको हुन् ?', 'electricalfacultymembers'), ('को तपाइलाई बनायो?', 'creator'), ('electrical ko faculty members ko ko ho?', 'electricalfacultymembers'), ('BCT ma kati ota seat huncha?', 'computerengineeringseats'), ('cesa club bujhaunus', 'cesaclub'), ('labs', 'resources'), ('कम्प्युटर इन्जिनियरिङ् को hod को हो?', 'computerhod'), ('सिभिल विभागमा कतिवटा प्रोजेक्ट बुझाउनुपर्छ', 'civilprojects'), ('ल', 'goodbye'), ('परीक्षा दिनु कति हाजिरी चाहिन्छ', 'attendance'), ('हाजिरी कति सम्मा हुनु पर्चा', 'attendance'), ('के कलेजमा boys hostel छ?', 'boyshostel'), ('काठमाडौं इन्जिनियरिङ कलेजमा कति क्लब छन्', 'clubsintro'), ('के म चौथो वर्षको बोर्ड परीक्षा routine प्राप्त गर्न सक्छु?', 'examroutine'), ('कम्प्युटरमा कतिवटा प्रोजेक्टहरू हुने', 'computerprojects'), ('k k college program hucha?', 'programs'), ('याहा कुन कुन संकाय छ?', 'faculty'), ('electrical club vaneko k ho', 'electricalclub'), ('Electrical engineering ko hod ko ho?', 'electricalhod'), ('Electronics engineering ko seat kati ho?', 'electronicsengineeringseats'), ('प्रोजेक्ट गर्नको लागि आवश्यकता छ?', 'projectinfo'), ('scholarship', 'scholarshipscheme'), ('योग क्लब के हो', 'yogaclub'), ('BCT iv/ii routine प्रदान गर्नुहोस्', 'bct8thsemroutine'), ('अकार', 'akarclub'), ('Admission ko lagi k k document chaincha?', 'admissiondocuments'), ('asdfghjkl', 'error'), ('एक प्रोजेक्ट मा कुल डिफेन्स', 'defenseproject'), ('kec ma girls hostel cha', 'girlshostel'), ('kec ma kati jana teachers chan', 'teachernumber'), ('architrecture ko faculty member', 'architecturefacultymembers'), ('architecture ko faculty member ko ko ho?', 'architecturefacultymembers'), ('exam dinu kasari paidaina', 'disqualification'), ('BEX hod', 'electronicshod'), ('akar club vaneko kasto ho', 'akarclub'), ('काठमाडौं इन्जिनियरिङ कलेजको स्थापना कहिले भएको हो?', 'establish'), ('scholarship', 'scholarshipscheme'), ('attendance kati chahincha', 'attendance'), ('भर्नाका लागि कागजातहरू के के हुन्?', 'admissiondocuments'), ('BCE ko hod ko ho?', 'civilhod'), ('पाठ्यक्रममा पनि प्रोजेक्ट छ?', 'projectinfo'), ('number of teachers', 'teachernumber'), ('kecbot kasle banayeko ho?', 'creator'), ('monthly fee kati lagcha', 'feestructure'), (' BCT iv/ii ko Routine', 'bct8thsemroutine'), ('इलेक्ट्रोनिक्स परियोजना क्लब के हुन्छ?', 'epclub'), ('oi', 'greeting'), ('आईडी कार्ड चाहिन्छ', 'idcard'), ('building', 'building'), ('kec को प्रिन्सिपल को हो?', 'principal'), ('clubs', 'clubs'), ('phone number', 'contactnumber'), ('yo college ma k k program huncha?', 'programs'), ('एडमिसनको लागी केके डकुमेन्ट चाहिन्छन्?', 'admissiondocuments'), ('girls hostel kati dinako lagi rahatipati garidinu parcha?', 'girlshostel'), ('kati baje dekhi college lagcha?', 'collegetime'), ('kecमा lab को सुभिदा छ?', 'resources'), ('kati ota building cha?', 'building'), ('इलेक्ट्रोनिक्स संकाय सदस्य ', 'electronicsfacultymembers'), ('अर्को?', 'other'), ('college kahile establish vako ho', 'establish'), ('kec ma kati ota building cha?', 'building'), ('वास्तुकला इन्जिनियरिङ्गको पाठ्यक्रम के हो', 'architecturecurriculum'), ('तिम्रो नाम के हो?', 'aboutme'), ('kati jana huncha architecture engineering ma?', 'architectureseats'), ('कलेजमा कुन कुन अतिरिक्त पाठ्यक्रमहरु छन्?', 'extracurriculumactivities'), ('उपप्रमुखको कार्यालय कहाँ छ', 'departmentlocation'), ('kecमा wifi को सुभिदा छ?', 'resources'), ('म को सँग कुरा गर्दैछु?', 'aboutme'), ('k ma free structure bare jankari pauna sakchu?', 'feestructure'), ('के म केईसीमा डिप्लोमा पढ्न पाउछु?', 'diploma'), ('अरु', 'other'), ('principle', 'principal'), ('kec ma hostel cha?', 'accomodationfacilities'), ('kec ma girls hostel ko kasto bywasta cha', 'girlshostel'), ('kec ko vice principal ko ho?', 'viceprincipal'), ('parking kata cha?', 'departmentlocation'), ('आर्किटेक्चर संकाय सदस्य ', 'architecturefacultymembers'), ('architecture ko pathyakram k ho?', 'architecturecurriculum'), ('8th sem ko final exam ko routine pradan garnu hos?', 'examroutine'), ('इलेक्ट्रोनिक्स परियोजना क्लब व्याख्या', 'epclub'), ('byebye', 'goodbye'), ('BEARCH ko hod ko ho?', 'architecturehod'), ('computer faculty member', 'computerfacultymembers'), ('programs', 'programs'), ('hapta ma college kati din huncha?', 'collegedays'), ('archi ma kati ota seat huncha?', 'architectureseats'), ('kathmandu engineering college ma kun kun club chan?', 'clubs'), ('kec ma kati ota buildings chan?', 'building'), ('धन्यवाद', 'goodbye'), ('faculty haru k k cha?', 'faculty'), ('number of teachers in kec', 'teachernumber'), ('वास्तुकलामा कति सिट  छ?', 'architectureseats'), ('तपाई को कालेजको नंबर कती हो?', 'contactnumber'), ('fee', 'feestructure'), ('civil department faculty member', 'civilfacultymembers'), ('civil faculty padhai huncha?', 'faculty'), ('eca', 'extracurriculumactivities'), ('kecbot कसले बनाएको हो ?', 'creator'), ('kec ma kasta club haru chan', 'clubsintro'), ('इलेक्ट्रोनिक्समा कुल प्रोजेक्टहरू', 'electronicsprojects')]\n",
            "548\n"
          ]
        }
      ]
    },
    {
      "cell_type": "code",
      "source": [
        "print(val_pairs)\n",
        "print(len(val_pairs))"
      ],
      "metadata": {
        "colab": {
          "base_uri": "https://localhost:8080/"
        },
        "id": "iLCCrEo1hH4k",
        "outputId": "b4e2d734-f1c3-4b04-e9ef-a57054727142"
      },
      "execution_count": 14,
      "outputs": [
        {
          "output_type": "stream",
          "name": "stdout",
          "text": [
            "[('कलेजमा शिक्षकहरूको संख्या कति छ?', 'teachernumber'), ('किन id card chahiyo', 'idcard'), ('it club vaneko k ho', 'itclub'), ('yoga संघको महत्व', 'yogaclub'), ('electronic hod', 'electronicshod'), ('सिविल संकायका शिक्षकहरूको सूची', 'civilfacultymembers'), ('प्रोजेक्ट वारीमा कति डिफेन्स लिन्छ?', 'defenseproject'), ('इलेक्ट्रोनिक्स परियोजना क्लब के हो?', 'epclub'), ('वाईफाई', 'resources'), ('सॉफ्टवेयर', 'resources'), ('सिभिल इन्जिनियरिङ् को हेड अफ डिपार्टमेन्ट को हो?', 'electronicshod'), ('कलेज हप्तामा कति दिन हुन्छ?', 'collegedays'), ('कलेज को स्थान?', 'location'), ('kati jana huncha computer engineering ma?', 'civilengineeringseats'), ('के girls hostel को अवस्था राम्रो छ?', 'girlshostel'), ('कलेज को स्थापना को मिति के हो?', 'establish'), ('मलाई कम्प्युटर संकायको 8th sem ko adt दिनचर्या प्रदान गर्नुहोस्', 'adtroutine'), ('computer engineering ma kati ota seat huncha?', 'architectureseats'), ('अयोग्यता मापदण्ड', 'disqualification'), ('kec kata cha', 'location'), ('होस्टेलको कित्ता साइजको छन्?', 'accomodationfacilities'), ('पोशाक रंग के कुरा', 'uniform'), ('हुन्छ', 'goodbye'), ('अनी', 'other'), ('timro naam k ho?', 'aboutme'), ('ec के हो?', 'electricalclub'), ('computer iv/ii ko routine', 'bct8thsemroutine'), ('computer faculty ko adt ko routine chaiyo', 'adtroutine'), ('सिभिल प्रोजेक्टहरूको विषयमा थप जानकारी दिनुहोस्', 'civilprojects'), ('admission garne bela kun kun documnets lyaunu parcha', 'admissiondocuments'), ('कालेजको नंबर दिनु', 'contactnumber'), ('इलेक्ट्रिकल क्लबको व्याख्या', 'electricalclub'), ('प्रिन्सिपलको नाम', 'principal'), ('electronics engineering को हेड अफ डिपार्टमेन्ट को हो?', 'electronicshod'), ('कम्प्युटर इन्जिनियरिङ् को हेड अफ डिपार्टमेन्ट को हो?', 'computerhod'), ('kec मा पोशाक को बारेमा', 'uniform'), ('कम्प्युटर इन्जिनियरिङ मा कुल कति सिट हुन्छ?', 'computerengineeringseats'), ('kecको प्रिन्सिपल को हो?', 'principal'), ('इलेक्ट्रिकल इन्जिनियरिङ संकायका सदस्यहरूको नाम', 'electricalfacultymembers'), ('how many attendances are required', 'attendance'), ('scholarship ko lagi k criteria cha?', 'scholarshipscheme'), ('हामीले इलेक्ट्रिकल विभागमा कतिवटा प्रोजेक्टहरू पूरा गर्नुपर्छ?', 'electricalprojects'), ('के यहाँ डिप्लोमा कोर्स हुन्छ?', 'diploma'), ('कलेज को समय के हो?', 'collegetime'), ('architecture engineering को हेड अफ डिपार्टमेन्ट को हो?', 'architecturehod'), ('स्वागत छ', 'greeting'), ('final parichya ko routine pradan garnuhos', 'examroutine'), ('kec it club bujhaunus', 'itclub'), ('cesa संघको महत्व', 'cesaclub'), ('वास्तुकला इन्जिनियरिङ्गको पाठ्यक्रम कस्तो हुन्छ?', 'architecturecurriculum'), ('.', 'error'), ('के boys hostel को अवस्था राम्रो छ?', 'boyshostel'), (' इलेक्ट्रिकल संकायका शिक्षकहरूको सूची', 'electricalfacultymembers'), ('इलेक्ट्रिकल इन्जिनियरिङ्गको पाठ्यक्रम कस्तो हुन्छ?', 'electricalcurriculum'), ('आर्किटेक्चर इन्जिनियरिङ् को हेड अफ डिपार्टमेन्ट को हो?', 'architecturehod'), ('वास्तुकलामा कुल कति सिट हुन्छ?', 'architectureseats'), ('सिभिल इन्जिनियरिङ् को हेड अफ डिपार्टमेन्ट को हो?', 'civilhod'), ('कुन कुन faculty पढाइ हुन्छ केसी मा?', 'faculty'), ('कुन कुन क्लबहरू हुन्छन्?', 'clubs'), ('के म तपाईको कलेजको फी संरचना बारे थाहा पाउन सक्छु?', 'feestructure'), ('bct 8th sem ko dincharya', 'bct8thsemroutine'), ('इलेक्ट्रिकल संकायमा के कुर्से हुन्छन्?', 'electricalcurriculum'), (' इलेक्ट्रोनिक्सको संकायका शिक्षकहरूको सूची', 'electronicsfacultymembers'), ('how long should the attendance be', 'attendance'), ('d b m d h', 'error'), ('हामीले सिभिल विभागमा कतिवटा प्रोजेक्टहरू पूरा गर्नुपर्छ?', 'civilprojects'), ('akar संघको महत्व', 'akarclub'), ('वास्तुकला संकायमा के कुर्से हुन्छन्?', 'architecturecurriculum'), ('इलेक्ट्रोनिक्स प्रोजेक्टहरूको विषयमा थप जानकारी दिनुहोस्', 'electronicsprojects'), ('इलेक्ट्रिकल इन्जिनियरिङ् को हेड अफ डिपार्टमेन्ट को हो?', 'electricalhod'), ('सिविल इन्जिनियरिङ संकायका सदस्यहरूको नाम', 'civilfacultymembers'), (' आर्किटेक्चर संकायका शिक्षकहरूको सूची', 'architecturefacultymembers'), ('इलेक्ट्रिकल विभाग कहाँ छ', 'departmentlocation'), ('कलेज हप्तामा कति दिन खुल्छ?', 'collegedays'), ('कलेजमा कति छात्र छन्?', 'studentnumber'), ('डिप्लोमा', 'diploma'), ('types of programs', 'programs'), ('रोबोटिक्स क्लब के हुन्छ?', 'roboticsclub'), ('एडमिसनको लागि आवश्यक कागजातहरू', 'admissiondocuments'), ('college को प्रमुख को हो?', 'principal'), ('कलेजको उपप्राचार्य को नाम के हो?', 'viceprincipal'), ('कलेजको  अध्यक्ष को हो?', 'chairman'), ('होस्टेल केराले गरिन्छ?', 'accomodationfacilities'), (' ', 'error'), ('कति डिफेन्स प्रोजेक्ट हुन्छ?', 'defenseproject'), ('boys hostel को शुल्क कति हो?', 'boyshostel'), ('सिभिल इन्जिनियरिङ मा कुल कति सिट हुन्छ?', 'civilengineeringseats'), ('tell me architecture hod', 'architecturehod'), ('कलेजमा कति भवन छन्?', 'building'), ('पहिचान पत्रको बारेमा', 'idcard'), ('yoga club ko barema ', 'yogaclub'), ('कलेजको शुल्क?', 'feestructure'), ('board exam routine 8th sem bel', 'examroutine'), ('सिलेबसमा पनि प्रोजेक्टको विषयमा जानकारी छ?', 'projectinfo'), ('epc के हुन्छ?', 'epclub'), ('scholarship form kati samma bharnu parcha?', 'scholarshipscheme'), ('कम्प्युटर इन्जिनियरिङमा कति सिट  छ?', 'computerengineeringseats'), ('scholarship ko lagi kun kun process hunxa?', 'scholarshipscheme'), ('कम्प्युटर विभागमा कुल प्रोजेक्टहरूको संख्या', 'computerprojects'), ('girls hostel को शुल्क कति हो?', 'girlshostel'), ('kun kun faculty padhai huncha kec ma?', 'faculty'), ('कलेजमा कति शिक्षकहरू छन्?', 'teachernumber'), ('कम्प्युटर प्रोजेक्टहरूको विषयमा थप जानकारी दिनुहोस्', 'computerprojects'), ('कलेजमा विद्यार्थीहरूको संख्या कति छ?', 'studentnumber'), ('कलेजको कुनै क्लबहरू छन्?', 'clubsintro'), ('कलेजमा कुन कुन गतिविधिहरु गरिन्छ?', 'extracurriculumactivities'), ('कलेजमा कति भवनहरु छ?', 'building'), ('परीक्षा दिनु कस्तो बेला पैदैन', 'disqualification'), ('civil hod', 'civilhod'), ('akar क्लबको बारेमा विवरण', 'akarclub'), ('ok', 'goodbye'), ('Electronics engineering ma kitne seats hoti hain?', 'electronicsengineeringseats'), ('केसीमा कार्यक्रमहरू हुन्छन्?', 'programs'), ('कस्तो छ?', 'greeting'), ('आर्किटेक्चर इन्जिनियरिङ संकायका सदस्यहरूको नाम', 'architecturefacultymembers'), ('अरु केही?', 'other'), ('कार्यक्रमहरू', 'programs'), ('तपाइलाई कसले निर्माण गर्नु भयो?', 'creator'), ('अतिरिक्त पाठ्यक्रम गतिविधिहरु को परिचय दिनुहोस्।', 'extracurriculumactivities'), ('तपाई को कालेजको नम्बर कती हो?', 'contactnumber'), ('इलेक्ट्रिकल प्रोजेक्टहरूको विषयमा थप जानकारी दिनुहोस्', 'electricalprojects'), ('cesaक्लबको बारेमा विवरण', 'cesaclub'), ('KEC मा प्रवेश गर्ने तरिका', 'registration'), ('इलेक्ट्रोनिक्स इन्जिनियरिङ संकायका सदस्यहरूको नाम', 'electronicsfacultymembers'), ('कम्प्युटर शिक्षकहरू', 'computerfacultymembers'), ('प्रोजेक्ट को सम्बन्धमा थप जानकारी दिनुहोस्', 'projectinfo'), ('कलेज कहिले बनेको हो?', 'establish'), ('इलेक्ट्रोनिक्स इन्जिनियरिङमा कुल कति सिट होती हैं?', 'electronicsengineeringseats'), ('तपाई को कुरा गर्दै हो?', 'aboutme'), ('इलेक्ट्रोनिक्स विभागमा कतिवटा प्रोजेक्टहरू सम्पन्न गर्नुपर्छ?', 'electronicsprojects'), ('तपाईं को निर्माता को हो?', 'creator'), ('कम्प्युटर संकायको सदस्यहरू', 'computerfacultymembers'), ('रोबोटिक्स क्लब के हो?', 'roboticsclub'), ('केईसी मा कस्ता क्लबहरू छन्?', 'clubsintro'), ('civil engineering को हेड अफ डिपार्टमेन्ट को हो?', 'civilhod'), ('electrical engineering को हेड अफ डिपार्टमेन्ट को हो?', 'electricalhod'), ('Computer engineering को हेड अफ डिपार्टमेन्ट को हो?', 'computerhod'), ('इलेक्ट्रोनिक्स विभाग कहाँ छ', 'departmentlocation'), ('केसीमा कुन कुन क्लबहरू छन्?', 'clubs'), ('उपप्राचार्यको नाम के हो?', 'viceprincipal'), ('कलेजको अध्यक्ष को नाम के हो?', 'chairman'), ('पढाइ सामग्री', 'library'), ('कलेजको कति घण्टा हुन्छ?', 'collegetime'), ('पढाइ सामग्रीहरू', 'library'), ('KEC को लागि दर्ता', 'registration')]\n",
            "145\n"
          ]
        }
      ]
    },
    {
      "cell_type": "code",
      "source": [
        "for pair in train_pairs:\n",
        "    print(pair)"
      ],
      "metadata": {
        "colab": {
          "base_uri": "https://localhost:8080/"
        },
        "id": "Zsvb6eTJWeA3",
        "outputId": "77f89da4-3e3e-4ce6-b969-01738daea5f1"
      },
      "execution_count": 15,
      "outputs": [
        {
          "output_type": "stream",
          "name": "stdout",
          "text": [
            "('केईसीका उपप्रमुख को हुन् ?', 'viceprincipal')\n",
            "('faculty', 'faculty')\n",
            "('के म तपाईको कलेजको शुल्क संरचना बारे जानकारी पाउन सक्छु?', 'feestructure')\n",
            "('college ko vice principal ko ho', 'viceprincipal')\n",
            "('kec को प्रमुख को हो?', 'principal')\n",
            "('electronics engineering ma kati ota seat huncha?', 'electronicsengineeringseats')\n",
            "('कुन कुन क्लबहरू छन्?', 'clubs')\n",
            "('malai bct ko 8th sem ko dincharya pradan garnuhos', 'bct8thsemroutine')\n",
            "('architecture faculty ko hod ko ho', 'architecturehod')\n",
            "('boys hostel कसरी दर्ता गर्ने?', 'boyshostel')\n",
            "('BArch पाठ्यक्रम', 'architecturecurriculum')\n",
            "('सिविलको संकाय सदस्य कोको हुन् ?', 'civilfacultymembers')\n",
            "('college ko time k ho?', 'collegetime')\n",
            "('iv/ii board exam routine', 'examroutine')\n",
            "('project pani exam ho', 'projectinfo')\n",
            "('इलेक्ट्रोनिक्स परियोजना क्लब के हो', 'epclub')\n",
            "('काठमाडौं इन्जिनियरिङ कलेजमा कस्ता क्लबहरू छन्?', 'clubsintro')\n",
            "('इलेक्ट्रोनिक्स विभागमा कतिवटा प्रोजेक्ट बुझाउनुपर्छ', 'electronicsprojects')\n",
            "('के.इ.सी.मा दर्ता गर्ने प्रक्रिया', 'registration')\n",
            "('पार्किङ कहाँ छ', 'departmentlocation')\n",
            "('मलाई कम्प्युटर संकायको 8th sem ko दिनचर्या प्रदान गर्नुहोस्', 'bct8thsemroutine')\n",
            "('सुन', 'greeting')\n",
            "('अयोग्यता मापदण्ड', 'disqualification')\n",
            "('हामीसँग एउटा प्रोजेक्ट मा \\u200b\\u200bकति डिफेन्स छ', 'defenseproject')\n",
            "('अनलाइन दर्ता', 'registration')\n",
            "('electrical club के हो', 'electricalclub')\n",
            "('electronics engineering ma ma kati wota project haru submit garnuparcha', 'electronicsprojects')\n",
            "('केईसी आईटी क्लब', 'itclub')\n",
            "('computer faculty ma kati seat huncha?', 'computerengineeringseats')\n",
            "('न्यूनतम उपस्थिति आवश्यक', 'attendance')\n",
            "('हाजिरी कति चाहिँछ', 'attendance')\n",
            "('kecमा girls होस्टेल छ?', 'girlshostel')\n",
            "('electrical club व्याख्या', 'electricalclub')\n",
            "('civil faculty ko hod ko ho', 'civilhod')\n",
            "('cesa kec व्याख्या', 'cesaclub')\n",
            "('BCT ko hod ko ho?', 'computerhod')\n",
            "('zxcvbnm', 'error')\n",
            "('Bel ma kati ota seat huncha?', 'electronicsengineeringseats')\n",
            "('computer engineering ma kati ota seat huncha?', 'computerengineeringseats')\n",
            "('diploma', 'diploma')\n",
            "('computer engineering ma ma kati wota project haru submit garnuparcha', 'computerprojects')\n",
            "('BEL पाठ्यक्रम', 'electricalcurriculum')\n",
            "('Number of students', 'studentnumber')\n",
            "('आईडी कार्ड भनेको के हो', 'idcard')\n",
            "('सिभिल विभाग कहाँ छ', 'departmentlocation')\n",
            "('Electronics engineering ma kati ota seat huncha?', 'electronicsengineeringseats')\n",
            "('college kahile suru vako ho?', 'establish')\n",
            "('other', 'other')\n",
            "('attendance kati samma hunu parcha', 'attendance')\n",
            "('yaha extracurriculum activites haru k k hucha?', 'extracurriculumactivities')\n",
            "('कम्प्युटर इन्जिनियरिङ संकाय सदस्यहरू', 'computerfacultymembers')\n",
            "('wifi', 'resources')\n",
            "('k k eca haru huncha?', 'extracurriculumactivities')\n",
            "('आईडीकार्डको बारेमा', 'idcard')\n",
            "('computer department ma kati jana teacher xan?', 'teachernumber')\n",
            "('सिभिल इन्जिनियरिङमा कति सिट हुन्छ?', 'civilengineeringseats')\n",
            "('roboticsclub व्याख्या', 'roboticsclub')\n",
            "('routine of computer faculty adt', 'adtroutine')\n",
            "('it क्लब व्याख्या', 'itclub')\n",
            "('kec college ma kati club chan', 'clubsintro')\n",
            "('electonics ko hod ho?', 'electronicshod')\n",
            "('euta project vari ma kati wota defense lincha', 'defenseproject')\n",
            "('कति घण्टा पढाई हुन्छ?', 'collegetime')\n",
            "('electronics engineering seats', 'electronicsengineeringseats')\n",
            "('प्रोजेक्ट पनि परीक्षा हो', 'projectinfo')\n",
            "('फ्रान्स दुई पल्ट विश्वकप जित्ने तेस्रो टिम', 'error')\n",
            "('library', 'library')\n",
            "('कहिले स्थापना भएको हो?', 'establish')\n",
            "('अरु?', 'other')\n",
            "('electrical ko faculty member', 'electricalfacultymembers')\n",
            "('हामीले कम्प्युटरमा कतिवटा प्रोजेक्टहरू गर्नुपर्छ', 'computerprojects')\n",
            "('BCE hod', 'civilhod')\n",
            "('roboticsclub k ho', 'roboticsclub')\n",
            "('electronics engineering ko hod ko ho', 'electronicshod')\n",
            "('के डिप्लोमा कोर्स छ?', 'diploma')\n",
            "('college ma hostel cha ki chaina?', 'accomodationfacilities')\n",
            "('college ko location?', 'location')\n",
            "('kec ko adakshya ko ho?', 'chairman')\n",
            "('exam dinu kati attendance chahincha', 'attendance')\n",
            "('BCE faculty member list', 'civilfacultymembers')\n",
            "('के कुनै सेमेस्टरमा प्रोजेक्ट गर्नुपर्छ?', 'projectinfo')\n",
            "('kec ma kasari darta garney?', 'registration')\n",
            "('kec dress k ho', 'uniform')\n",
            "('केईसी it क्लब के हो', 'itclub')\n",
            "('computer hod', 'computerhod')\n",
            "('electrical faculty member', 'electricalfacultymembers')\n",
            "('विद्यार्थी कसरी परीक्षा दिन अयोग्य छन्', 'disqualification')\n",
            "('girls hostel कसरी दर्ता गर्ने?', 'girlshostel')\n",
            "('software', 'resources')\n",
            "('एनक्यू कसरी लगचा', 'disqualification')\n",
            "('prinipal ko naam?', 'principal')\n",
            "('tapai ko ho?', 'aboutme')\n",
            "('अनी?', 'other')\n",
            "('kec पोशाक', 'uniform')\n",
            "('kec ma boys hostel ko kasto bywasta cha', 'boyshostel')\n",
            "('hapta ma kati din college lagcha?', 'collegedays')\n",
            "('कलेजको प्रिन्सिपल को हो?', 'principal')\n",
            "('अतिरिक्त पाठ्यक्रम गतिविधिहरु पनि हुन्छ?', 'extracurriculumactivities')\n",
            "('program haru kati ko huncha?', 'programs')\n",
            "('robotics के हो', 'roboticsclub')\n",
            "('kun kun eca huncha', 'extracurriculumactivities')\n",
            "('कलेजमा कति भवनहरु छन्?', 'building')\n",
            "('id card vaneko k ho', 'idcard')\n",
            "('नमस्ते', 'greeting')\n",
            "('योग क्लब के हो', 'yogaclub')\n",
            "('civil faculty member', 'civilfacultymembers')\n",
            "('प्रोजेक्ट मा \\u200b\\u200bकति डिफेन्स लिइन्छ?', 'defenseproject')\n",
            "('कलेज कता छ?', 'location')\n",
            "('tmi ko ho?', 'aboutme')\n",
            "('computer ko seat kati ho?', 'computerengineeringseats')\n",
            "('kec it क्लब', 'itclub')\n",
            "('मलाई कलेज को नम्बर दिनु त', 'contactnumber')\n",
            "('civil engineering ma kati ota seat huncha?', 'civilengineeringseats')\n",
            "('adt routine', 'adtroutine')\n",
            "('fee kati tirnu parcha?', 'feestructure')\n",
            "('kec को प्रधान अध्यापक को हो?', 'principal')\n",
            "('सिविल संकाय सदस्य ', 'civilfacultymembers')\n",
            "('eca haru k k huncha?', 'extracurriculumactivities')\n",
            "('tapa chei ko ho ni?', 'error')\n",
            "('इलेक्ट्रिकलमा कुल प्रोजेक्टहरू', 'electricalprojects')\n",
            "('accomodation facilities', 'accomodationfacilities')\n",
            "('BCE ma kati ota seat huncha?', 'civilengineeringseats')\n",
            "('इलेक्ट्रिकल संकाय को लागि पाठ्यक्रम के हो', 'electricalcurriculum')\n",
            "('ओए', 'greeting')\n",
            "('exam dinu kasto bela paidaina', 'disqualification')\n",
            "('तपाई को कालेजको नंबर कती हो?', 'contactnumber')\n",
            "('सिभिल इन्जिनियरिङमा सिट कति छ?', 'civilengineeringseats')\n",
            "('कलेजको पोशाक के हो', 'uniform')\n",
            "('iv/ii board exam routine', 'examroutine')\n",
            "('girls hostel kata cha?', 'girlshostel')\n",
            "('asdf', 'error')\n",
            "(' yogaclub भनेको के हो', 'yogaclub')\n",
            "('vice prinipal ko naam?', 'viceprincipal')\n",
            "('यस कलेजको उपप्राचार्य को हुनुहुन्छ?', 'viceprincipal')\n",
            "('BEX faculty members', 'electronicsfacultymembers')\n",
            "('के हामीले हरेक सेमेस्टरमा प्रोजेक्ट गर्नुपर्छ', 'projectinfo')\n",
            "('इलेक्ट्रोनिक्सको  शिक्षकहरूको सूची', 'electronicsfacultymembers')\n",
            "('कलेजको समय कति ह', 'error')\n",
            "('केईसी आर्किटेक्चर को संघ व्याख्या', 'akarclub')\n",
            "('architecture ko pathyakram', 'architecturecurriculum')\n",
            "('scholarship kasari paincha', 'scholarshipscheme')\n",
            "('civil hod', 'civilhod')\n",
            "('civil engineering seats', 'civilengineeringseats')\n",
            "('kec kaha cha?', 'location')\n",
            "('सिभिल प्रोजेक्टहरूको संख्या', 'civilprojects')\n",
            "('civil ma kati wota project haru garnu parcha', 'civilprojects')\n",
            "('कलेज कहिले स्थापना भएको हो?', 'establish')\n",
            "('kati jana teacher chan?', 'teachernumber')\n",
            "('syllabus ma project pani cha', 'projectinfo')\n",
            "('कलेजमा कति विद्यार्थी छन्?', 'studentnumber')\n",
            "('हेल्लो', 'greeting')\n",
            "('kec ma bidyarthi kati chan', 'studentnumber')\n",
            "('civil depatment ma kati wota project haru submit garnuparcha', 'civilprojects')\n",
            "('केईसी मा कुनै क्लब छ', 'clubsintro')\n",
            "('see ya', 'goodbye')\n",
            "('admission garna k k chaincha?', 'admissiondocuments')\n",
            "('civil ko hod ho?', 'civilhod')\n",
            "('पोशाक रंग', 'uniform')\n",
            "('chairman name?', 'chairman')\n",
            "('aru?', 'other')\n",
            "('computer faculty ko fee kati cha?', 'feestructure')\n",
            "('tapai ko college ma k k karyakram huncha?', 'programs')\n",
            "('computer faculty ma ko ko cha?', 'computerfacultymembers')\n",
            "('college days', 'collegedays')\n",
            "('कलेजमा कति भवनहरू छन्?', 'building')\n",
            "('kec ma lab ko subhida cha?', 'resources')\n",
            "('routine computer 4th year 2nd part', 'bct8thsemroutine')\n",
            "('BCT faculty member haru ko list', 'computerfacultymembers')\n",
            "('cesa kec के हो', 'cesaclub')\n",
            "('कम्प्युटर इन्जिनियरिङ् को HOD को हो?', 'computerhod')\n",
            "('civil hod', 'civilhod')\n",
            "('architecture ma seat kati cha?', 'architectureseats')\n",
            "('How to register at KEC?', 'registration')\n",
            "('aba aaune adt ko routine pradan garnu hos', 'adtroutine')\n",
            "('हाम्रो च्याटबोटलाई नमस्ते', 'greeting')\n",
            "('scholarship ko lagi k garnu parcha?', 'scholarshipscheme')\n",
            "('electrical club bujhaunus', 'electricalclub')\n",
            "('कलेजको समय?', 'collegetime')\n",
            "('कसरी विद्यार्थीलाई परीक्षामा उपस्थित हुन प्रतिबन्ध लगाउन सकिन्छ', 'disqualification')\n",
            "('computer ma seat kati cha?', 'computerengineeringseats')\n",
            "('इलेक्ट्रिकलको  शिक्षकहरूको सूची', 'electricalfacultymembers')\n",
            "('वास्तुकला संकाय को लागि पाठ्यक्रम के हो', 'architecturecurriculum')\n",
            "('establish date', 'establish')\n",
            "('hostel', 'accomodationfacilities')\n",
            "('vice principal', 'viceprincipal')\n",
            "('archi ko hod ho?', 'architecturehod')\n",
            "('कलेज दिन कति छन्?', 'collegedays')\n",
            "('यो कलेजको प्रिन्सिपल को कार्यालय कहाँ छ', 'departmentlocation')\n",
            "('it club के हो', 'itclub')\n",
            "('bce ma kati ota seat huncha?', 'civilengineeringseats')\n",
            "('kec ma kati jana student chan', 'studentnumber')\n",
            "('हप्तामा कति दिन कलेज हुन्छ?', 'collegedays')\n",
            "('सिविलको शिक्षकहरूको सूची', 'civilfacultymembers')\n",
            "('केईसीमा उपस्थित क्लबहरू के छन्?', 'clubs')\n",
            "('who made you', 'creator')\n",
            "('tapai chei ko ho ni?', 'aboutme')\n",
            "('hal kec ma kati jana student chan', 'studentnumber')\n",
            "('college ko chairman ko naam k ho?', 'chairman')\n",
            "('adt ko routine pradan garnuhos', 'adtroutine')\n",
            "('kati jana huncha computer engineering ma?', 'computerengineeringseats')\n",
            "('आईडी कार्ड को बारे मा व्याख्या', 'idcard')\n",
            "('CESA-KEC के हो', 'cesaclub')\n",
            "('आईडीकार्डको आवश्यकता', 'idcard')\n",
            "('इलेक्ट्रोनिक्स प्रोजेक्टहरूको सारांश', 'electronicsprojects')\n",
            "('girls hostel cha ki nai?', 'girlshostel')\n",
            "('BEL ma kati ota seat huncha?', 'electronicsengineeringseats')\n",
            "('architecture ko curriculum k ho?', 'architecturecurriculum')\n",
            "('भर्नाका लागि आवश्यक कागजातहरू के के हुन्?', 'admissiondocuments')\n",
            "('Malai college ko number dinu na?', 'contactnumber')\n",
            "('yo chatbot kasle banayeko ho?', 'creator')\n",
            "('kec kaile baneko ho?', 'establish')\n",
            "('adt routine', 'adtroutine')\n",
            "('yogaclub व्याख्या', 'yogaclub')\n",
            "('electrical ko hod ho?', 'electricalhod')\n",
            "('कम्प्युटर विभागमा कतिवटा प्रोजेक्ट बुझाउनुपर्छ', 'computerprojects')\n",
            "('college clubs haru k k cha?', 'clubs')\n",
            "('कलेजको उपप्राचार्य को हो?', 'viceprincipal')\n",
            "('इलेक्ट्रिकल प्रोजेक्टहरूको संख्या', 'electricalprojects')\n",
            "('routine computer faculty 8th sem', 'bct8thsemroutine')\n",
            "('परीक्षामा भाग लिन पुन: उपस्थिति', 'attendance')\n",
            "('डेस', 'uniform')\n",
            "('kec kata cha?', 'location')\n",
            "('civil ko faculty members', 'civilfacultymembers')\n",
            "(' routine of adt', 'adtroutine')\n",
            "('कलेजमा कति शिक्षक छन्?', 'teachernumber')\n",
            "('boys hostel cha ki nai?', 'boyshostel')\n",
            "('civil engineering ma ma kati wota project haru submit garnuparcha', 'civilprojects')\n",
            "('computer depatment ma kati wota project haru submit garnuparcha', 'computerprojects')\n",
            "('प्रोजेक्ट को लागि कति डिफेन्स लिनुपर्छ?', 'defenseproject')\n",
            "('केईसीमा डिप्लोमा छ?', 'diploma')\n",
            "(' iv/ii ko board parichya ko routine', 'examroutine')\n",
            "('4thyear board exam routine', 'examroutine')\n",
            "('नमस्कार', 'greeting')\n",
            "('मलाई डिपलेमा पढाई हुन्छ कि हुदैन भन्दिनु न?', 'diploma')\n",
            "('kec ma boys hostel cha', 'boyshostel')\n",
            "('electronics engineering ma kitna seats hain?', 'electronicsengineeringseats')\n",
            "('namaste', 'greeting')\n",
            "('yoga क्लबको बारेमा विवरण', 'yogaclub')\n",
            "('creator', 'creator')\n",
            "('it क्लब', 'itclub')\n",
            "('कलेजको पुस्तकालय', 'library')\n",
            "('ahile kec ma kati jana student chan', 'studentnumber')\n",
            "('admission ko prakriya k ho?', 'admissiondocuments')\n",
            "('ec के हो', 'electricalclub')\n",
            "('BEX ko hod ko ho?', 'electronicshod')\n",
            "('civil engineering ko hod ko ho', 'civilhod')\n",
            "('yaha kunkun club chan?', 'clubs')\n",
            "('के कलेजमा girls hostel छ?', 'girlshostel')\n",
            "('Computer engineering ko HOD ko ho?', 'computerhod')\n",
            "('computer department faculty member', 'computerfacultymembers')\n",
            "('epc vaneko k ho', 'epclub')\n",
            "('वास्तुकलामा कति सिट हुन्छ?', 'architectureseats')\n",
            "('kec कहाँ छ?', 'location')\n",
            "('kec ko vice principal ko ho', 'viceprincipal')\n",
            "('रोबोटिक्सक्लब के हुन्छ?', 'roboticsclub')\n",
            "('boys hostel kati dinako lagi rahatipati garidinu parcha?', 'boyshostel')\n",
            "('अध्ययन शुरू गर्ने नियम', 'registration')\n",
            "('timi ko ho?', 'aboutme')\n",
            "('रोबोटिक्सक्लब के हो?', 'roboticsclub')\n",
            "('college kati din huncha?', 'collegedays')\n",
            "('yesh college ma scholarship scheme kasto cha?', 'scholarshipscheme')\n",
            "('k k club haru cha?', 'clubs')\n",
            "('Computer engineering ko hod ko ho?', 'computerhod')\n",
            "('kec ma diploma cha ki chaina?', 'diploma')\n",
            "('kec को पोशाक  के हो', 'uniform')\n",
            "('4th year board exam routine', 'examroutine')\n",
            "('contact number', 'contactnumber')\n",
            "('electrical hod', 'electricalhod')\n",
            "('kec it क्लब व्याख्या', 'itclub')\n",
            "('fee kati cha?', 'feestructure')\n",
            "('आर्किटेक्चरको संकाय सदस्य कोको हुन् ?', 'architecturefacultymembers')\n",
            "('cesa club vaneko k ho', 'cesaclub')\n",
            "('तपाईको कलेजमा कसरी छात्रवृत्ति प्राप्त गर्न सकिन्छ?', 'scholarshipscheme')\n",
            "('teacher number', 'teachernumber')\n",
            "('architecture ma kati ota seat huncha?', 'architectureseats')\n",
            "('Adt Routine ', 'adtroutine')\n",
            "('kecमा boys होस्टेल छ?', 'boyshostel')\n",
            "('तपाइलाई कसले बनाएको हो ?', 'creator')\n",
            "('कलेज libraryको बारेमा जानकारी', 'library')\n",
            "('malai 4th year ko aba aaune parichya ko routine pradan garnu hos?', 'examroutine')\n",
            "('योग क्लब', 'yogaclub')\n",
            "('कम्प्युटर विभाग कहाँ छ', 'departmentlocation')\n",
            "('इलेक्ट्रिकल संकाय सदस्य ', 'electricalfacultymembers')\n",
            "('kati ghanta padhai huncha?', 'collegetime')\n",
            "('योग क्लब व्याख्या', 'yogaclub')\n",
            "('सिभिल इन्जिनियरिङ को H.O.D को हो', 'civilhod')\n",
            "('architecture ko hod ko ho', 'architecturehod')\n",
            "('ec vaneko k ho', 'electricalclub')\n",
            "('सिभिल विभागमा कुल प्रोजेक्टहरूको संख्या', 'civilprojects')\n",
            "('इलेक्ट्रोनिक्स विभागमा कुल प्रोजेक्टहरूको संख्या', 'electronicsprojects')\n",
            "('तपाईको कलेजमा होस्टेल छ?', 'accomodationfacilities')\n",
            "('हामीले इलेक्ट्रिकलमा कतिवटा प्रोजेक्टहरू गर्नुपर्छ', 'electricalprojects')\n",
            "('केईसी आर्किटेक्चर संघ', 'akarclub')\n",
            "('electical faculty ko hod ko ho', 'electricalhod')\n",
            "('kec ma wifi ko subhida cha?', 'resources')\n",
            "('तपाईको कलेजमा केके कार्यक्रम हुन्छ?', 'programs')\n",
            "('architecture hod', 'architecturehod')\n",
            "('computer ko hod?', 'computerhod')\n",
            "('BEL faculty members list', 'electricalfacultymembers')\n",
            "('electrical पाठ्यक्रम', 'electricalcurriculum')\n",
            "('इलेक्ट्रोनिक्स इन्जिनियरिङमा कति सिट हुन्छ?', 'electronicsengineeringseats')\n",
            "('id card ko barema bujhaunus', 'idcard')\n",
            "('architecture ko hod ko ho?', 'architecturehod')\n",
            "('yaha kun kun faculty cha?', 'faculty')\n",
            "('electronics faculty member', 'electronicsfacultymembers')\n",
            "('chairman', 'chairman')\n",
            "('books', 'library')\n",
            "('केईसीका अध्यक्ष को हुन् ?', 'chairman')\n",
            "('kun kun club haru cha?', 'clubs')\n",
            "('akar व्याख्या', 'akarclub')\n",
            "('kec ko principal ko ho', 'principal')\n",
            "('roboticsclub के हो', 'roboticsclub')\n",
            "('defense kati wota huncha', 'defenseproject')\n",
            "('तपाई को कालेजको नंबर कती हो?', 'contactnumber')\n",
            "('एउटा प्रोजेक्ट को लागि कति डिफेन्स लिइन्छ', 'defenseproject')\n",
            "('roboticsclub vaneko k ho', 'roboticsclub')\n",
            "('electronics department faculty member', 'electronicsfacultymembers')\n",
            "('पोशाक रंग के हुन्छ', 'uniform')\n",
            "(\"What's your name?\", 'aboutme')\n",
            "('आर्किटेक्चर को HOD को हो?', 'architecturehod')\n",
            "('सेसा के हो', 'cesaclub')\n",
            "('BArch को लागि पाठ्यक्रम के हो', 'architecturecurriculum')\n",
            "('halo', 'error')\n",
            "('BArch faculty members list', 'architecturefacultymembers')\n",
            "('BEL ko hod ko ho?', 'electricalhod')\n",
            "('इलेक्ट्रिकल विभागमा कतिवटा प्रोजेक्ट बुझाउनुपर्छ', 'electricalprojects')\n",
            "('scholarship kasari pauna sakincha?', 'scholarshipscheme')\n",
            "('Electrical ko pathyakram k ho?', 'electricalcurriculum')\n",
            "('दिन मा कति घण्टा पढाई हुन्छ?', 'collegetime')\n",
            "('Bye', 'goodbye')\n",
            "('काठमाडौं इन्जिनियरिङ कलेजमा केके पढाउनुहुन्छ?', 'faculty')\n",
            "('अध्यक्षको कार्यालय कहाँ छ', 'departmentlocation')\n",
            "('canteen kata cha?', 'departmentlocation')\n",
            "('archi ko hod ko ho?', 'architecturehod')\n",
            "('civil ma kati seat huncha?', 'civilengineeringseats')\n",
            "('college kaha cha?', 'location')\n",
            "('tapai ko college ma k k program huncha?', 'programs')\n",
            "('college ko hostel cha ki chaina?', 'accomodationfacilities')\n",
            "('electrical depatment ma kati wota project haru submit garnuparcha', 'electricalprojects')\n",
            "('इलेक्ट्रोनिक्स परियोजना क्लब', 'epclub')\n",
            "('students number', 'studentnumber')\n",
            "('architrecture faculty member', 'architecturefacultymembers')\n",
            "('BCE ko faculty member ko ko ho?', 'civilfacultymembers')\n",
            "('यो कलेज कहाँ छ?', 'location')\n",
            "('nq kasari lagcha', 'disqualification')\n",
            "('योग भनेको के हो', 'yogaclub')\n",
            "('काठमाडौं इन्जिनियरिङ कलेजमा कुनै क्लबहरू छन्?', 'clubsintro')\n",
            "('भर्नाका लागि के के चाहिन्छ?', 'admissiondocuments')\n",
            "('electronics depatment ma kati wota project haru submit garnuparcha', 'electronicsprojects')\n",
            "('Computer 8th sem ko routine', 'bct8thsemroutine')\n",
            "('कलेजको ड्रेस के हो', 'uniform')\n",
            "('Electrical engineering ko pathyakram', 'electricalcurriculum')\n",
            "('kec ko स्थापना कहिले भएको हो?', 'establish')\n",
            "('kec ma kasari admission garne', 'registration')\n",
            "('Information about library', 'library')\n",
            "('BEX faculty members list', 'electronicsfacultymembers')\n",
            "('akar के हो', 'akarclub')\n",
            "('यहा डिप्लोमा पढाई हुन्छ कि हुदैन?', 'diploma')\n",
            "('number of buildings', 'building')\n",
            "('तपाई को हो?', 'aboutme')\n",
            "('ARCHI ma kati ota seat huncha?', 'architectureseats')\n",
            "('कलेज हप्तामा कति दिन चल्छ?', 'collegedays')\n",
            "('सिभिलमा कुल प्रोजेक्टहरू', 'civilprojects')\n",
            "('हामीले इलेक्ट्रोनिक्समा कतिवटा प्रोजेक्टहरू गर्नुपर्छ', 'electronicsprojects')\n",
            "('architecture seats', 'architectureseats')\n",
            "('इलेक्ट्रोनिक्सको संकाय सदस्य कोको हुन् ?', 'electronicsfacultymembers')\n",
            "('CESA-KEC व्याख्या', 'cesaclub')\n",
            "('week ma kati din college huncha?', 'collegedays')\n",
            "('electrical hod', 'electricalhod')\n",
            "('roboticsclub bujhaunus', 'roboticsclub')\n",
            "('कम्प्युटरको संकाय सदस्य कोको हुन् ?', 'computerfacultymembers')\n",
            "('BCT faculty members', 'computerfacultymembers')\n",
            "('name of chairman', 'chairman')\n",
            "('college kati bela bata suru huncha?', 'collegetime')\n",
            "('computer ma kati wota project haru garnu parcha', 'computerprojects')\n",
            "('विद्यार्थी कहिले अयोग्य हुन्छ', 'disqualification')\n",
            "('kec it club vaneko k ho', 'itclub')\n",
            "('कम्प्युटर इन्जिनियरिङ्गमा कतिवटा प्रोजेक्टहरू सम्पन्न गर्नुपर्छ?', 'computerprojects')\n",
            "('epc के हो', 'epclub')\n",
            "('मलाई तपाईको कलेजको सम्पर्क नम्बर दिनुहोस्।', 'contactnumber')\n",
            "('तपाईको कलेजमा होस्टेलको सुविधा छ?', 'accomodationfacilities')\n",
            "('project kun kun sem ma huncha', 'projectinfo')\n",
            "('क्लब नाम', 'clubsintro')\n",
            "('architecture पाठ्यक्रम', 'architecturecurriculum')\n",
            "('इलेक्ट्रोनिक्स इन्जिनियरिङ को HOD को हो', 'electronicshod')\n",
            "('kec ma awasyak software haru chan?', 'resources')\n",
            "('admission documents', 'admissiondocuments')\n",
            "('कलेजको समय कति हो?', 'collegetime')\n",
            "('कम्प्युटर इन्जिनियरिङ् को हेड अफ डिपार्टमेन्ट को हो?', 'computerhod')\n",
            "('परिचयपत्र', 'idcard')\n",
            "('कम्प्युटरमा कुल प्रोजेक्टहरू', 'computerprojects')\n",
            "('ए', 'goodbye')\n",
            "('club ko naam', 'clubsintro')\n",
            "('तपाइँको कलेज मा अतिरिक्त पाठ्यक्रम गतिविधिहरु के गरिन्छ?', 'extracurriculumactivities')\n",
            "('epc व्याख्या', 'epclub')\n",
            "('kec मा कसरी दर्ता गर्ने', 'registration')\n",
            "('routine of computer 4th sem adt', 'adtroutine')\n",
            "('इलेक्ट्रिकल विभागमा कुल प्रोजेक्टहरूको संख्या', 'electricalprojects')\n",
            "('faculty?', 'faculty')\n",
            "('इलेक्ट्रिकल इन्जिनियरिङ्गको पाठ्यक्रम के हो', 'electricalcurriculum')\n",
            "('BCEमा कति सिट हुन्छ?', 'civilengineeringseats')\n",
            "('scholarship k ko adar ma paincha?', 'scholarshipscheme')\n",
            "('electronics project club vaneko k ho', 'epclub')\n",
            "('BEL को लागि पाठ्यक्रम के हो', 'electricalcurriculum')\n",
            "('yaha diploma padai huncha?', 'diploma')\n",
            "('इलेक्ट्रिकल इन्जिनियरिङ् को HOD को हो?', 'electricalhod')\n",
            "('electronics faculty ko hod ko ho', 'electronicshod')\n",
            "('electronics ko faculty member ko ko ho?', 'electronicsfacultymembers')\n",
            "('electrical engineering ma ma kati wota project haru submit garnuparcha', 'electricalprojects')\n",
            "('electronics ma kati wota project haru garnu parcha', 'electronicsprojects')\n",
            "('electrical department faculty member', 'electricalfacultymembers')\n",
            "('अकार क्लब के हो', 'akarclub')\n",
            "('architecture department faculty member', 'architecturefacultymembers')\n",
            "('इलेक्ट्रोनिक्स इन्जिनियरिङ को HOD को हो?', 'electronicshod')\n",
            "('programs', 'programs')\n",
            "('kecमा कति ओटा buildings छन्?', 'building')\n",
            "('electrical ko curriculum k ho', 'electricalcurriculum')\n",
            "('हामीले सिभिलमा कतिवटा प्रोजेक्टहरू गर्नुपर्छ', 'civilprojects')\n",
            "('kec ma total students kati chan', 'studentnumber')\n",
            "('kec ko chairman ko ho?', 'chairman')\n",
            "('kec ma fee structure kasto cha?', 'feestructure')\n",
            "('कोले तपाइलाई बनायो?', 'creator')\n",
            "('पुस्तकालय कहाँ छ?', 'library')\n",
            "('electrical ma kati wota project haru garnu parcha', 'electricalprojects')\n",
            "('इलेक्ट्रिकल क्लब के हो?', 'electricalclub')\n",
            "('civil department ma kati jana teacher chan?', 'teachernumber')\n",
            "('routine computer 8th sem', 'bct8thsemroutine')\n",
            "('कम्प्युटर इन्जिनियरिङमा कति सिट हुन्छ?', 'computerengineeringseats')\n",
            "('library ko bare ma?', 'library')\n",
            "('akar club bujhaunus', 'akarclub')\n",
            "('qwerty', 'error')\n",
            "('इलेक्ट्रिकल क्लब के हुन्छ?', 'electricalclub')\n",
            "('yo college kaha cha?', 'location')\n",
            "('computer faculty padhai huncha?', 'faculty')\n",
            "('कम्प्युटर संकाय सदस्य ', 'computerfacultymembers')\n",
            "('study materials', 'library')\n",
            "('registration for kec', 'registration')\n",
            "('computer engineering seats', 'computerengineeringseats')\n",
            "('BEL hod', 'electricalhod')\n",
            "('आर्किटेक्चर  शिक्षकहरूको सूची', 'architecturefacultymembers')\n",
            "('college ko principal ko ho', 'principal')\n",
            "('अध्यक्षको नाम के हो?', 'chairman')\n",
            "('electronics hod', 'electronicshod')\n",
            "('boys hostel kata cha?', 'boyshostel')\n",
            "('प्रोजेक्ट मा \\u200b\\u200bकुल कति डिफेन्स हुन्छ?', 'defenseproject')\n",
            "('hostel ko subhida kasto cha?', 'accomodationfacilities')\n",
            "('सेसा', 'cesaclub')\n",
            "('इलेक्ट्रिकलको संकाय सदस्य कोको हुन् ?', 'electricalfacultymembers')\n",
            "('को तपाइलाई बनायो?', 'creator')\n",
            "('electrical ko faculty members ko ko ho?', 'electricalfacultymembers')\n",
            "('BCT ma kati ota seat huncha?', 'computerengineeringseats')\n",
            "('cesa club bujhaunus', 'cesaclub')\n",
            "('labs', 'resources')\n",
            "('कम्प्युटर इन्जिनियरिङ् को hod को हो?', 'computerhod')\n",
            "('सिभिल विभागमा कतिवटा प्रोजेक्ट बुझाउनुपर्छ', 'civilprojects')\n",
            "('ल', 'goodbye')\n",
            "('परीक्षा दिनु कति हाजिरी चाहिन्छ', 'attendance')\n",
            "('हाजिरी कति सम्मा हुनु पर्चा', 'attendance')\n",
            "('के कलेजमा boys hostel छ?', 'boyshostel')\n",
            "('काठमाडौं इन्जिनियरिङ कलेजमा कति क्लब छन्', 'clubsintro')\n",
            "('के म चौथो वर्षको बोर्ड परीक्षा routine प्राप्त गर्न सक्छु?', 'examroutine')\n",
            "('कम्प्युटरमा कतिवटा प्रोजेक्टहरू हुने', 'computerprojects')\n",
            "('k k college program hucha?', 'programs')\n",
            "('याहा कुन कुन संकाय छ?', 'faculty')\n",
            "('electrical club vaneko k ho', 'electricalclub')\n",
            "('Electrical engineering ko hod ko ho?', 'electricalhod')\n",
            "('Electronics engineering ko seat kati ho?', 'electronicsengineeringseats')\n",
            "('प्रोजेक्ट गर्नको लागि आवश्यकता छ?', 'projectinfo')\n",
            "('scholarship', 'scholarshipscheme')\n",
            "('योग क्लब के हो', 'yogaclub')\n",
            "('BCT iv/ii routine प्रदान गर्नुहोस्', 'bct8thsemroutine')\n",
            "('अकार', 'akarclub')\n",
            "('Admission ko lagi k k document chaincha?', 'admissiondocuments')\n",
            "('asdfghjkl', 'error')\n",
            "('एक प्रोजेक्ट मा कुल डिफेन्स', 'defenseproject')\n",
            "('kec ma girls hostel cha', 'girlshostel')\n",
            "('kec ma kati jana teachers chan', 'teachernumber')\n",
            "('architrecture ko faculty member', 'architecturefacultymembers')\n",
            "('architecture ko faculty member ko ko ho?', 'architecturefacultymembers')\n",
            "('exam dinu kasari paidaina', 'disqualification')\n",
            "('BEX hod', 'electronicshod')\n",
            "('akar club vaneko kasto ho', 'akarclub')\n",
            "('काठमाडौं इन्जिनियरिङ कलेजको स्थापना कहिले भएको हो?', 'establish')\n",
            "('scholarship', 'scholarshipscheme')\n",
            "('attendance kati chahincha', 'attendance')\n",
            "('भर्नाका लागि कागजातहरू के के हुन्?', 'admissiondocuments')\n",
            "('BCE ko hod ko ho?', 'civilhod')\n",
            "('पाठ्यक्रममा पनि प्रोजेक्ट छ?', 'projectinfo')\n",
            "('number of teachers', 'teachernumber')\n",
            "('kecbot kasle banayeko ho?', 'creator')\n",
            "('monthly fee kati lagcha', 'feestructure')\n",
            "(' BCT iv/ii ko Routine', 'bct8thsemroutine')\n",
            "('इलेक्ट्रोनिक्स परियोजना क्लब के हुन्छ?', 'epclub')\n",
            "('oi', 'greeting')\n",
            "('आईडी कार्ड चाहिन्छ', 'idcard')\n",
            "('building', 'building')\n",
            "('kec को प्रिन्सिपल को हो?', 'principal')\n",
            "('clubs', 'clubs')\n",
            "('phone number', 'contactnumber')\n",
            "('yo college ma k k program huncha?', 'programs')\n",
            "('एडमिसनको लागी केके डकुमेन्ट चाहिन्छन्?', 'admissiondocuments')\n",
            "('girls hostel kati dinako lagi rahatipati garidinu parcha?', 'girlshostel')\n",
            "('kati baje dekhi college lagcha?', 'collegetime')\n",
            "('kecमा lab को सुभिदा छ?', 'resources')\n",
            "('kati ota building cha?', 'building')\n",
            "('इलेक्ट्रोनिक्स संकाय सदस्य ', 'electronicsfacultymembers')\n",
            "('अर्को?', 'other')\n",
            "('college kahile establish vako ho', 'establish')\n",
            "('kec ma kati ota building cha?', 'building')\n",
            "('वास्तुकला इन्जिनियरिङ्गको पाठ्यक्रम के हो', 'architecturecurriculum')\n",
            "('तिम्रो नाम के हो?', 'aboutme')\n",
            "('kati jana huncha architecture engineering ma?', 'architectureseats')\n",
            "('कलेजमा कुन कुन अतिरिक्त पाठ्यक्रमहरु छन्?', 'extracurriculumactivities')\n",
            "('उपप्रमुखको कार्यालय कहाँ छ', 'departmentlocation')\n",
            "('kecमा wifi को सुभिदा छ?', 'resources')\n",
            "('म को सँग कुरा गर्दैछु?', 'aboutme')\n",
            "('k ma free structure bare jankari pauna sakchu?', 'feestructure')\n",
            "('के म केईसीमा डिप्लोमा पढ्न पाउछु?', 'diploma')\n",
            "('अरु', 'other')\n",
            "('principle', 'principal')\n",
            "('kec ma hostel cha?', 'accomodationfacilities')\n",
            "('kec ma girls hostel ko kasto bywasta cha', 'girlshostel')\n",
            "('kec ko vice principal ko ho?', 'viceprincipal')\n",
            "('parking kata cha?', 'departmentlocation')\n",
            "('आर्किटेक्चर संकाय सदस्य ', 'architecturefacultymembers')\n",
            "('architecture ko pathyakram k ho?', 'architecturecurriculum')\n",
            "('8th sem ko final exam ko routine pradan garnu hos?', 'examroutine')\n",
            "('इलेक्ट्रोनिक्स परियोजना क्लब व्याख्या', 'epclub')\n",
            "('byebye', 'goodbye')\n",
            "('BEARCH ko hod ko ho?', 'architecturehod')\n",
            "('computer faculty member', 'computerfacultymembers')\n",
            "('programs', 'programs')\n",
            "('hapta ma college kati din huncha?', 'collegedays')\n",
            "('archi ma kati ota seat huncha?', 'architectureseats')\n",
            "('kathmandu engineering college ma kun kun club chan?', 'clubs')\n",
            "('kec ma kati ota buildings chan?', 'building')\n",
            "('धन्यवाद', 'goodbye')\n",
            "('faculty haru k k cha?', 'faculty')\n",
            "('number of teachers in kec', 'teachernumber')\n",
            "('वास्तुकलामा कति सिट  छ?', 'architectureseats')\n",
            "('तपाई को कालेजको नंबर कती हो?', 'contactnumber')\n",
            "('fee', 'feestructure')\n",
            "('civil department faculty member', 'civilfacultymembers')\n",
            "('civil faculty padhai huncha?', 'faculty')\n",
            "('eca', 'extracurriculumactivities')\n",
            "('kecbot कसले बनाएको हो ?', 'creator')\n",
            "('kec ma kasta club haru chan', 'clubsintro')\n",
            "('इलेक्ट्रोनिक्समा कुल प्रोजेक्टहरू', 'electronicsprojects')\n"
          ]
        }
      ]
    },
    {
      "cell_type": "code",
      "source": [
        "t_queries = [pair[0] for pair in train_pairs]\n",
        "t_labels = [pair[1] for pair in train_pairs]\n",
        "\n",
        "v_queries = [pair[0] for pair in val_pairs]\n",
        "v_labels = [pair[1] for pair in val_pairs]"
      ],
      "metadata": {
        "id": "xirokbN-XESD"
      },
      "execution_count": 16,
      "outputs": []
    },
    {
      "cell_type": "code",
      "source": [
        "len(t_queries), len(t_labels)\n"
      ],
      "metadata": {
        "colab": {
          "base_uri": "https://localhost:8080/"
        },
        "id": "V-PwPhrxXHGv",
        "outputId": "85693184-ff54-461f-9bbf-3ac210c1433b"
      },
      "execution_count": 17,
      "outputs": [
        {
          "output_type": "execute_result",
          "data": {
            "text/plain": [
              "(548, 548)"
            ]
          },
          "metadata": {},
          "execution_count": 17
        }
      ]
    },
    {
      "cell_type": "code",
      "source": [
        "len(v_queries), len(v_labels)\n"
      ],
      "metadata": {
        "colab": {
          "base_uri": "https://localhost:8080/"
        },
        "id": "P3bbtkyWXJ-2",
        "outputId": "5951eede-2588-4085-819b-3839b77020b3"
      },
      "execution_count": 18,
      "outputs": [
        {
          "output_type": "execute_result",
          "data": {
            "text/plain": [
              "(145, 145)"
            ]
          },
          "metadata": {},
          "execution_count": 18
        }
      ]
    },
    {
      "cell_type": "code",
      "source": [
        "le = LabelEncoder()\n",
        "le.fit(training_labels)\n",
        "y = le.transform(t_labels)\n",
        "val_y = le.transform(v_labels)"
      ],
      "metadata": {
        "id": "1VTXHviZXLux"
      },
      "execution_count": 19,
      "outputs": []
    },
    {
      "cell_type": "code",
      "source": [
        "vocab_size = 1000\n",
        "embedding_dim = 32\n",
        "max_len = 10\n",
        "oov_token = '<OOV>'"
      ],
      "metadata": {
        "id": "Sxut8JB5XNja"
      },
      "execution_count": 20,
      "outputs": []
    },
    {
      "cell_type": "code",
      "source": [
        "tokenizer = Tokenizer(num_words=vocab_size, oov_token=oov_token)\n",
        "tokenizer.fit_on_texts(t_queries)\n",
        "word_index = tokenizer.word_index\n",
        "t_sequences = tokenizer.texts_to_sequences(t_queries)\n",
        "t_padded_sequences = pad_sequences(t_sequences, truncating='post', maxlen=max_len)\n",
        "\n",
        "v_sequences = tokenizer.texts_to_sequences(v_queries)\n",
        "V_padded_sequences = pad_sequences(v_sequences, truncating='post', maxlen=max_len)"
      ],
      "metadata": {
        "id": "ONQBoKkSXPKr"
      },
      "execution_count": 21,
      "outputs": []
    },
    {
      "cell_type": "code",
      "source": [
        "class TransformerBlock(layers.Layer):\n",
        "    def __init__(self, embed_dim, num_heads, ff_dim, rate=0.2):\n",
        "        super(TransformerBlock, self).__init__()\n",
        "        self.att = layers.MultiHeadAttention(num_heads=num_heads, key_dim=embed_dim)\n",
        "        self.ffn = tf.keras.Sequential(\n",
        "            [layers.Dense(ff_dim, activation=\"relu\", kernel_regularizer=tf.keras.regularizers.L1(0.01),\n",
        "                          activity_regularizer=tf.keras.regularizers.L2(0.01)), layers.Dense(embed_dim),]\n",
        "        )\n",
        "        self.layernorm1 = layers.LayerNormalization(epsilon=1e-6)\n",
        "        self.layernorm2 = layers.LayerNormalization(epsilon=1e-6)\n",
        "        self.dropout1 = layers.Dropout(rate)\n",
        "        self.dropout2 = layers.Dropout(rate)\n",
        "\n",
        "    def call(self, inputs, training):\n",
        "        attn_output = self.att(inputs, inputs)\n",
        "        attn_output = self.dropout1(attn_output, training=training)\n",
        "        out1 = self.layernorm1(inputs + attn_output)\n",
        "        ffn_output = self.ffn(out1)\n",
        "        ffn_output = self.dropout2(ffn_output, training=training)\n",
        "        return self.layernorm2(out1 + ffn_output)"
      ],
      "metadata": {
        "id": "rze1YdDMXQ2x"
      },
      "execution_count": 22,
      "outputs": []
    },
    {
      "cell_type": "code",
      "source": [
        "class TokenAndPositionEmbedding(layers.Layer):\n",
        "    def __init__(self, maxlen, vocab_size, embed_dim):\n",
        "        super(TokenAndPositionEmbedding, self).__init__()\n",
        "        self.token_emb = layers.Embedding(input_dim=vocab_size, output_dim=embed_dim)\n",
        "        self.pos_emb = layers.Embedding(input_dim=maxlen, output_dim=embed_dim)\n",
        "\n",
        "    def call(self, x):\n",
        "        maxlen = tf.shape(x)[-1]\n",
        "        positions = tf.range(start=0, limit=maxlen, delta=1)\n",
        "        positions = self.pos_emb(positions)\n",
        "        x = self.token_emb(x)\n",
        "        return x + positions"
      ],
      "metadata": {
        "id": "IFkfMgcFXSoa"
      },
      "execution_count": 23,
      "outputs": []
    },
    {
      "cell_type": "code",
      "source": [
        "# Transformer block\n",
        "embed_dim = 64\n",
        "num_heads = 4\n",
        "ff_dim = 32\n",
        "\n",
        "inputs = layers.Input(shape=(max_len,))\n",
        "embedding_layer = TokenAndPositionEmbedding(max_len, vocab_size, embed_dim)\n",
        "x = embedding_layer(inputs)\n",
        "transformer_block = TransformerBlock(embed_dim, num_heads, ff_dim)\n",
        "x = transformer_block(x)\n",
        "x = layers.GlobalAveragePooling1D()(x)\n",
        "x = layers.Dropout(0.4)(x)\n",
        "\n",
        "# Add a dense layer\n",
        "x = layers.Dense(64, activation=\"relu\")(x)\n",
        "\n",
        "# Add BatchNormalization\n",
        "x = layers.BatchNormalization()(x)\n",
        "\n",
        "# Additional Dense Layer\n",
        "# x = layers.Dense(32, activation=\"relu\")(x)\n",
        "\n",
        "# Continue with more layers as needed\n",
        "x = layers.Dropout(0.2)(x)\n",
        "outputs = layers.Dense(NUM_CLASSES, activation=\"softmax\")(x)\n",
        "\n",
        "model = tf.keras.Model(inputs=inputs, outputs=outputs)"
      ],
      "metadata": {
        "id": "1Ixxdi-AXUGX"
      },
      "execution_count": 97,
      "outputs": []
    },
    {
      "cell_type": "code",
      "source": [
        "model.summary()\n"
      ],
      "metadata": {
        "colab": {
          "base_uri": "https://localhost:8080/"
        },
        "id": "xbfnY0jYXVcq",
        "outputId": "9941ea98-abe6-4b28-df08-926aacf05f2f"
      },
      "execution_count": 98,
      "outputs": [
        {
          "output_type": "stream",
          "name": "stdout",
          "text": [
            "Model: \"model_15\"\n",
            "_________________________________________________________________\n",
            " Layer (type)                Output Shape              Param #   \n",
            "=================================================================\n",
            " input_16 (InputLayer)       [(None, 10)]              0         \n",
            "                                                                 \n",
            " token_and_position_embeddi  (None, 10, 64)            64640     \n",
            " ng_15 (TokenAndPositionEmb                                      \n",
            " edding)                                                         \n",
            "                                                                 \n",
            " transformer_block_15 (Tran  (None, 10, 64)            70816     \n",
            " sformerBlock)                                                   \n",
            "                                                                 \n",
            " global_average_pooling1d_1  (None, 64)                0         \n",
            " 5 (GlobalAveragePooling1D)                                      \n",
            "                                                                 \n",
            " dropout_65 (Dropout)        (None, 64)                0         \n",
            "                                                                 \n",
            " dense_68 (Dense)            (None, 64)                4160      \n",
            "                                                                 \n",
            " batch_normalization_21 (Ba  (None, 64)                256       \n",
            " tchNormalization)                                               \n",
            "                                                                 \n",
            " dropout_66 (Dropout)        (None, 64)                0         \n",
            "                                                                 \n",
            " dense_69 (Dense)            (None, 69)                4485      \n",
            "                                                                 \n",
            "=================================================================\n",
            "Total params: 144357 (563.89 KB)\n",
            "Trainable params: 144229 (563.39 KB)\n",
            "Non-trainable params: 128 (512.00 Byte)\n",
            "_________________________________________________________________\n"
          ]
        }
      ]
    },
    {
      "cell_type": "code",
      "source": [
        "patience = 2\n",
        "early_stopping = tf.keras.callbacks.EarlyStopping(monitor='val_loss', patience=patience, restore_best_weights=True)"
      ],
      "metadata": {
        "id": "r9JA92KlXWrI"
      },
      "execution_count": 99,
      "outputs": []
    },
    {
      "cell_type": "code",
      "source": [
        "model.compile(optimizer=tf.keras.optimizers.Adam(learning_rate=0.001),\n",
        "              loss=\"sparse_categorical_crossentropy\",\n",
        "              metrics=[\"accuracy\"])\n",
        "history = model.fit(\n",
        "    t_padded_sequences,\n",
        "    np.array(y),\n",
        "    validation_data=(V_padded_sequences, np.array(val_y)),\n",
        "    batch_size=32, epochs=100, callbacks=[early_stopping]\n",
        ")"
      ],
      "metadata": {
        "colab": {
          "base_uri": "https://localhost:8080/"
        },
        "id": "w35NfrEtXZDP",
        "outputId": "004e2721-dad0-44aa-dfe7-495efd24a9c9"
      },
      "execution_count": 100,
      "outputs": [
        {
          "output_type": "stream",
          "name": "stdout",
          "text": [
            "Epoch 1/100\n",
            "18/18 [==============================] - 4s 39ms/step - loss: 7.5347 - accuracy: 0.0109 - val_loss: 6.8581 - val_accuracy: 0.0138\n",
            "Epoch 2/100\n",
            "18/18 [==============================] - 0s 15ms/step - loss: 6.9682 - accuracy: 0.0164 - val_loss: 6.6766 - val_accuracy: 0.0138\n",
            "Epoch 3/100\n",
            "18/18 [==============================] - 0s 16ms/step - loss: 6.6319 - accuracy: 0.0292 - val_loss: 6.3744 - val_accuracy: 0.0138\n",
            "Epoch 4/100\n",
            "18/18 [==============================] - 0s 18ms/step - loss: 6.4408 - accuracy: 0.0128 - val_loss: 6.0952 - val_accuracy: 0.0138\n",
            "Epoch 5/100\n",
            "18/18 [==============================] - 0s 16ms/step - loss: 6.1927 - accuracy: 0.0347 - val_loss: 5.8259 - val_accuracy: 0.0483\n",
            "Epoch 6/100\n",
            "18/18 [==============================] - 0s 15ms/step - loss: 5.7700 - accuracy: 0.0456 - val_loss: 5.5753 - val_accuracy: 0.0276\n",
            "Epoch 7/100\n",
            "18/18 [==============================] - 0s 26ms/step - loss: 5.5160 - accuracy: 0.0438 - val_loss: 5.2972 - val_accuracy: 0.0483\n",
            "Epoch 8/100\n",
            "18/18 [==============================] - 0s 26ms/step - loss: 5.1754 - accuracy: 0.0748 - val_loss: 4.9362 - val_accuracy: 0.1172\n",
            "Epoch 9/100\n",
            "18/18 [==============================] - 0s 24ms/step - loss: 4.8230 - accuracy: 0.0967 - val_loss: 4.7529 - val_accuracy: 0.1310\n",
            "Epoch 10/100\n",
            "18/18 [==============================] - 0s 25ms/step - loss: 4.5395 - accuracy: 0.1369 - val_loss: 4.4664 - val_accuracy: 0.1310\n",
            "Epoch 11/100\n",
            "18/18 [==============================] - 0s 26ms/step - loss: 4.1269 - accuracy: 0.2026 - val_loss: 4.1785 - val_accuracy: 0.2414\n",
            "Epoch 12/100\n",
            "18/18 [==============================] - 0s 26ms/step - loss: 3.6901 - accuracy: 0.2573 - val_loss: 3.8503 - val_accuracy: 0.3103\n",
            "Epoch 13/100\n",
            "18/18 [==============================] - 0s 28ms/step - loss: 3.2334 - accuracy: 0.3577 - val_loss: 3.6289 - val_accuracy: 0.3034\n",
            "Epoch 14/100\n",
            "18/18 [==============================] - 0s 28ms/step - loss: 2.8276 - accuracy: 0.4945 - val_loss: 3.3379 - val_accuracy: 0.4276\n",
            "Epoch 15/100\n",
            "18/18 [==============================] - 0s 16ms/step - loss: 2.7783 - accuracy: 0.4580 - val_loss: 2.9911 - val_accuracy: 0.4759\n",
            "Epoch 16/100\n",
            "18/18 [==============================] - 0s 15ms/step - loss: 2.3526 - accuracy: 0.5456 - val_loss: 2.7605 - val_accuracy: 0.4483\n",
            "Epoch 17/100\n",
            "18/18 [==============================] - 0s 15ms/step - loss: 1.9460 - accuracy: 0.6478 - val_loss: 2.5500 - val_accuracy: 0.4966\n",
            "Epoch 18/100\n",
            "18/18 [==============================] - 0s 16ms/step - loss: 1.7169 - accuracy: 0.7318 - val_loss: 2.3077 - val_accuracy: 0.5448\n",
            "Epoch 19/100\n",
            "18/18 [==============================] - 0s 16ms/step - loss: 1.5387 - accuracy: 0.7682 - val_loss: 2.1666 - val_accuracy: 0.5586\n",
            "Epoch 20/100\n",
            "18/18 [==============================] - 0s 16ms/step - loss: 1.3031 - accuracy: 0.8321 - val_loss: 2.0683 - val_accuracy: 0.5655\n",
            "Epoch 21/100\n",
            "18/18 [==============================] - 0s 17ms/step - loss: 1.1530 - accuracy: 0.8504 - val_loss: 1.9271 - val_accuracy: 0.5724\n",
            "Epoch 22/100\n",
            "18/18 [==============================] - 0s 18ms/step - loss: 1.0426 - accuracy: 0.8723 - val_loss: 1.7893 - val_accuracy: 0.6276\n",
            "Epoch 23/100\n",
            "18/18 [==============================] - 0s 16ms/step - loss: 0.9531 - accuracy: 0.8905 - val_loss: 1.6842 - val_accuracy: 0.6345\n",
            "Epoch 24/100\n",
            "18/18 [==============================] - 0s 18ms/step - loss: 0.8180 - accuracy: 0.9106 - val_loss: 1.6769 - val_accuracy: 0.6552\n",
            "Epoch 25/100\n",
            "18/18 [==============================] - 0s 18ms/step - loss: 0.7863 - accuracy: 0.9069 - val_loss: 1.6046 - val_accuracy: 0.6483\n",
            "Epoch 26/100\n",
            "18/18 [==============================] - 0s 16ms/step - loss: 0.7037 - accuracy: 0.9252 - val_loss: 1.6038 - val_accuracy: 0.6621\n",
            "Epoch 27/100\n",
            "18/18 [==============================] - 0s 18ms/step - loss: 0.6904 - accuracy: 0.9234 - val_loss: 1.5314 - val_accuracy: 0.6690\n",
            "Epoch 28/100\n",
            "18/18 [==============================] - 0s 16ms/step - loss: 0.5510 - accuracy: 0.9599 - val_loss: 1.5022 - val_accuracy: 0.6690\n",
            "Epoch 29/100\n",
            "18/18 [==============================] - 0s 18ms/step - loss: 0.5159 - accuracy: 0.9580 - val_loss: 1.4741 - val_accuracy: 0.6690\n",
            "Epoch 30/100\n",
            "18/18 [==============================] - 0s 18ms/step - loss: 0.4745 - accuracy: 0.9635 - val_loss: 1.4111 - val_accuracy: 0.6828\n",
            "Epoch 31/100\n",
            "18/18 [==============================] - 0s 16ms/step - loss: 0.4172 - accuracy: 0.9690 - val_loss: 1.4118 - val_accuracy: 0.7310\n",
            "Epoch 32/100\n",
            "18/18 [==============================] - 0s 16ms/step - loss: 0.4154 - accuracy: 0.9726 - val_loss: 1.3858 - val_accuracy: 0.6897\n",
            "Epoch 33/100\n",
            "18/18 [==============================] - 0s 19ms/step - loss: 0.3753 - accuracy: 0.9799 - val_loss: 1.3724 - val_accuracy: 0.7103\n",
            "Epoch 34/100\n",
            "18/18 [==============================] - 0s 16ms/step - loss: 0.3435 - accuracy: 0.9872 - val_loss: 1.3779 - val_accuracy: 0.6759\n",
            "Epoch 35/100\n",
            "18/18 [==============================] - 0s 19ms/step - loss: 0.3200 - accuracy: 0.9836 - val_loss: 1.4042 - val_accuracy: 0.6966\n"
          ]
        }
      ]
    },
    {
      "cell_type": "code",
      "source": [
        "def plot_graphs(history, metric):\n",
        "    plt.plot(history.history.history[metric])\n",
        "    plt.plot(history.history.history['val_'+ metric], '')\n",
        "    plt.xlabel('Epochs')\n",
        "    plt.ylabel(metric)\n",
        "    plt.legend([metric, 'val_' + metric])"
      ],
      "metadata": {
        "id": "9xUv9La6YK-G"
      },
      "execution_count": 28,
      "outputs": []
    },
    {
      "cell_type": "code",
      "source": [
        "plt.rcParams.update({'font.size': 22})\n"
      ],
      "metadata": {
        "id": "oDT9q3D5YNd-"
      },
      "execution_count": 29,
      "outputs": []
    },
    {
      "cell_type": "code",
      "source": [
        "plt.figure(figsize=(18, 9))\n",
        "plt.subplot(1, 2, 1)\n",
        "plot_graphs(model,'accuracy')\n",
        "plt.ylim(None, 1)\n",
        "plt.subplot(1, 2, 2)\n",
        "plot_graphs(model, 'loss')\n",
        "plt.ylim(0, None)\n",
        "plt.savefig('result', dpi=200, transparent=True, format='svg')"
      ],
      "metadata": {
        "colab": {
          "base_uri": "https://localhost:8080/",
          "height": 814
        },
        "id": "CdFeyRE0YPMh",
        "outputId": "bad270cf-9a2d-4b94-973b-d1c1e87ec8c6"
      },
      "execution_count": 30,
      "outputs": [
        {
          "output_type": "display_data",
          "data": {
            "text/plain": [
              "<Figure size 1800x900 with 2 Axes>"
            ],
            "image/png": "[encoded data removed]"
          },
          "metadata": {}
        }
      ]
    },
    {
      "cell_type": "code",
      "source": [
        "\n",
        "inp = 'काठमाडौं इन्जिनियरिङ कलेजको स्थापना कहिले भएको हो?'\n",
        "result = model.predict(tf.keras.preprocessing.sequence.pad_sequences(tokenizer.texts_to_sequences([inp]),\n",
        "                                             truncating='post', maxlen=max_len), verbose=0)\n",
        "print(NUM_CLASSES)\n",
        "print(len(result[0]))\n",
        "print(np.max(result))\n",
        "\n",
        "if np.max(result) > 0.01:\n",
        "  tag = le.inverse_transform([np.argmax(result)])\n",
        "  print(tag)\n",
        "else:\n",
        "  print('not found')\n"
      ],
      "metadata": {
        "colab": {
          "base_uri": "https://localhost:8080/"
        },
        "id": "MpvS_rDKYRmw",
        "outputId": "0126f89b-4e72-4569-e921-d524e68f429e"
      },
      "execution_count": 31,
      "outputs": [
        {
          "output_type": "stream",
          "name": "stdout",
          "text": [
            "69\n",
            "69\n",
            "0.9608268\n",
            "['establish']\n"
          ]
        }
      ]
    },
    {
      "cell_type": "code",
      "source": [
        "print(result[0])\n"
      ],
      "metadata": {
        "colab": {
          "base_uri": "https://localhost:8080/"
        },
        "id": "UJm08I8_YeEN",
        "outputId": "b06e22e8-3ec5-4e02-cfef-de02d9b7a981"
      },
      "execution_count": 32,
      "outputs": [
        {
          "output_type": "stream",
          "name": "stdout",
          "text": [
            "[3.37921010e-05 1.14588274e-05 4.32198867e-04 5.66236158e-05\n",
            " 7.24911224e-04 6.82354876e-05 2.39798246e-04 2.37075947e-04\n",
            " 5.10112623e-05 1.61029617e-04 2.84834561e-04 5.86797134e-04\n",
            " 4.54078458e-04 2.45343777e-04 1.72262720e-04 2.66416064e-05\n",
            " 1.86397240e-03 3.58244497e-03 9.18615784e-04 3.31885368e-03\n",
            " 5.24189556e-03 1.77834852e-04 5.83894609e-04 4.07298867e-05\n",
            " 2.94047466e-04 2.23775369e-05 1.83769938e-04 2.58155167e-04\n",
            " 3.07195209e-04 5.33066195e-05 3.21163185e-04 3.13435012e-05\n",
            " 6.19713610e-05 2.58944310e-05 5.18690331e-06 1.18233247e-05\n",
            " 3.10782052e-05 6.10549323e-05 1.29109585e-05 3.05726862e-04\n",
            " 5.22273840e-05 2.07191304e-04 1.57426344e-04 3.38245212e-04\n",
            " 9.60826814e-01 9.49631867e-05 4.70445433e-04 6.51349267e-03\n",
            " 1.52224069e-03 2.00235547e-04 9.45654028e-06 8.41802321e-05\n",
            " 3.44805332e-04 2.29991367e-03 1.86708407e-04 4.01535159e-04\n",
            " 2.20455360e-04 4.63304241e-05 8.05168471e-04 7.05538914e-05\n",
            " 1.85992301e-03 7.90795912e-06 5.50121258e-05 3.98326229e-05\n",
            " 1.56368609e-04 7.91043713e-05 6.78718847e-04 1.30079585e-04\n",
            " 6.39507372e-04]\n"
          ]
        }
      ]
    },
    {
      "cell_type": "code",
      "source": [
        "# to save the trained model\n",
        "model.save(\"/content/drive/MyDrive/custom/nmodel1\")\n",
        "\n",
        "import pickle\n",
        "\n",
        "# to save the fitted tokenizer\n",
        "with open('/content/drive/MyDrive/custom/ntokenizer1.pickle', 'wb') as handle:\n",
        "    pickle.dump(tokenizer, handle, protocol=pickle.HIGHEST_PROTOCOL)\n",
        "\n",
        "# to save the fitted label encoder\n",
        "with open('/content/drive/MyDrive/chatbot/nlabel_encoder1.pickle', 'wb') as ecn_file:\n",
        "    pickle.dump(le, ecn_file, protocol=pickle.HIGHEST_PROTOCOL)"
      ],
      "metadata": {
        "id": "NYuf508UYr0W"
      },
      "execution_count": 35,
      "outputs": []
    },
    {
      "cell_type": "code",
      "source": [
        "storage = pd.DataFrame(columns=['Date'])\n"
      ],
      "metadata": {
        "id": "_xGdqaf7Y0RI"
      },
      "execution_count": 36,
      "outputs": []
    },
    {
      "cell_type": "code",
      "source": [
        "storage.to_csv('/content/drive/MyDrive/custom/storage.csv', index=False)\n"
      ],
      "metadata": {
        "id": "0ibHxadkY2jJ"
      },
      "execution_count": 37,
      "outputs": []
    },
    {
      "cell_type": "code",
      "source": [
        "pip install fuzzywuzzy\n"
      ],
      "metadata": {
        "id": "JZkBeBZtY5eX",
        "colab": {
          "base_uri": "https://localhost:8080/"
        },
        "outputId": "d14ac836-2b2c-4063-84b4-13780159c864"
      },
      "execution_count": 39,
      "outputs": [
        {
          "output_type": "stream",
          "name": "stdout",
          "text": [
            "Collecting fuzzywuzzy\n",
            "  Downloading fuzzywuzzy-0.18.0-py2.py3-none-any.whl (18 kB)\n",
            "Installing collected packages: fuzzywuzzy\n",
            "Successfully installed fuzzywuzzy-0.18.0\n"
          ]
        }
      ]
    },
    {
      "cell_type": "code",
      "source": [
        "pip install python-Levenshtein\n"
      ],
      "metadata": {
        "colab": {
          "base_uri": "https://localhost:8080/"
        },
        "id": "57uXRg2hFsaF",
        "outputId": "44398288-b1e9-4165-878b-bdf8bd21ada9"
      },
      "execution_count": 40,
      "outputs": [
        {
          "output_type": "stream",
          "name": "stdout",
          "text": [
            "Collecting python-Levenshtein\n",
            "  Downloading python_Levenshtein-0.25.0-py3-none-any.whl (9.4 kB)\n",
            "Collecting Levenshtein==0.25.0 (from python-Levenshtein)\n",
            "  Downloading Levenshtein-0.25.0-cp310-cp310-manylinux_2_17_x86_64.manylinux2014_x86_64.whl (177 kB)\n",
            "\u001b[2K     \u001b[90m━━━━━━━━━━━━━━━━━━━━━━━━━━━━━━━━━━━━━━━━\u001b[0m \u001b[32m177.4/177.4 kB\u001b[0m \u001b[31m3.3 MB/s\u001b[0m eta \u001b[36m0:00:00\u001b[0m\n",
            "\u001b[?25hCollecting rapidfuzz<4.0.0,>=3.1.0 (from Levenshtein==0.25.0->python-Levenshtein)\n",
            "  Downloading rapidfuzz-3.6.1-cp310-cp310-manylinux_2_17_x86_64.manylinux2014_x86_64.whl (3.4 MB)\n",
            "\u001b[2K     \u001b[90m━━━━━━━━━━━━━━━━━━━━━━━━━━━━━━━━━━━━━━━━\u001b[0m \u001b[32m3.4/3.4 MB\u001b[0m \u001b[31m15.8 MB/s\u001b[0m eta \u001b[36m0:00:00\u001b[0m\n",
            "\u001b[?25hInstalling collected packages: rapidfuzz, Levenshtein, python-Levenshtein\n",
            "Successfully installed Levenshtein-0.25.0 python-Levenshtein-0.25.0 rapidfuzz-3.6.1\n"
          ]
        }
      ]
    },
    {
      "cell_type": "code",
      "source": [
        "import json\n",
        "from fuzzywuzzy import fuzz\n",
        "import numpy as np\n",
        "from tensorflow import keras\n",
        "from sklearn.preprocessing import LabelEncoder\n",
        "\n",
        "import spacy\n",
        "import random\n",
        "import pickle\n",
        "\n",
        "with open(data_path) as file:\n",
        "    data = json.load(file)\n",
        "\n",
        "storage = pd.read_csv('/content/drive/MyDrive/custom/storage.csv')\n",
        "\n",
        "import spacy\n",
        "\n",
        "NER = spacy.load(\"en_core_web_sm\")\n",
        "\n",
        "def chat():\n",
        "    # load trained model\n",
        "    model = keras.models.load_model('/content/drive/MyDrive/custom/model1')\n",
        "\n",
        "    # load tokenizer object\n",
        "    with open('/content/drive/MyDrive/custom/tokenizer1.pickle', 'rb') as handle:\n",
        "        tokenizer = pickle.load(handle)\n",
        "\n",
        "    # load label encoder object\n",
        "    with open('/content/drive/MyDrive/custom/label_encoder1.pickle', 'rb') as enc:\n",
        "        le = pickle.load(enc)\n",
        "\n",
        "       # load Spacy NER\n",
        "    nlp = spacy.load(\"en_core_web_sm\")\n",
        "\n",
        "    # parameters\n",
        "    max_len = 20\n",
        "\n",
        "    while True:\n",
        "        print(\"User: \")\n",
        "        inp = input()\n",
        "        text = nlp(inp)\n",
        "        for word in text.ents:\n",
        "            if word.label_ == 'DATE':\n",
        "                storage['Date'] = word.text\n",
        "\n",
        "        if inp.lower() == \"quit\":\n",
        "            break\n",
        "\n",
        "        # Fuzzy String Matching\n",
        "        max_similarity = 0\n",
        "        best_match_tag = None\n",
        "\n",
        "        for i in data['intents']:\n",
        "            for pattern in i['patterns']:\n",
        "                similarity = fuzz.ratio(inp.lower(), pattern.lower())\n",
        "                if similarity > max_similarity:\n",
        "                    max_similarity = similarity\n",
        "                    best_match_tag = i['tag']\n",
        "\n",
        "        if max_similarity >= 80:  # Adjust the similarity threshold as needed\n",
        "            tag = best_match_tag\n",
        "        else:\n",
        "            result = model.predict(keras.preprocessing.sequence.pad_sequences(tokenizer.texts_to_sequences([inp]),\n",
        "                                                 truncating='post', maxlen=max_len), verbose=0)\n",
        "            tag = le.inverse_transform([np.argmax(result)])\n",
        "\n",
        "        for i in data['intents']:\n",
        "            if i['tag'] == tag:\n",
        "                selected_response = np.random.choice(i['responses'])\n",
        "\n",
        "                print(\"Selected Response:\", selected_response)  # Debugging print statement\n",
        "\n",
        "                if 'text' in selected_response:\n",
        "                    print(\"ChatBot: \" + selected_response['text'])\n",
        "\n",
        "                if 'table' in selected_response:\n",
        "                    headers = selected_response['table']['headers']\n",
        "                    rows = selected_response['table']['rows']\n",
        "\n",
        "                    # Display the table\n",
        "                    print(\"ChatBot:\")\n",
        "                    print(f\"{headers[0]:<30} {headers[1]}\")\n",
        "                    for row in rows:\n",
        "                        if len(row) >= 2:\n",
        "                            print(f\"{row[0]:<30} {row[1]}\")\n",
        "                        else:\n",
        "                            print(\"Invalid table row format.\")\n",
        "\n",
        "\n"
      ],
      "metadata": {
        "id": "IY58foAwY7Vn"
      },
      "execution_count": 41,
      "outputs": []
    },
    {
      "cell_type": "code",
      "source": [
        "print(\"Start messaging with the bot (type quit to stop)!\")\n",
        "chat()"
      ],
      "metadata": {
        "colab": {
          "base_uri": "https://localhost:8080/",
          "height": 321
        },
        "id": "KU7Yy7v-ZIet",
        "outputId": "9ff9a0a7-7dc3-444b-85c3-ee4ae8531bf4"
      },
      "execution_count": 42,
      "outputs": [
        {
          "output_type": "stream",
          "name": "stdout",
          "text": [
            "Start messaging with the bot (type quit to stop)!\n"
          ]
        },
        {
          "output_type": "error",
          "ename": "OSError",
          "evalue": "No file or directory found at /content/drive/MyDrive/custom/model1",
          "traceback": [
            "\u001b[0;31m---------------------------------------------------------------------------\u001b[0m",
            "\u001b[0;31mOSError\u001b[0m                                   Traceback (most recent call last)",
            "\u001b[0;32m<ipython-input-42-38c8fc426d6f>\u001b[0m in \u001b[0;36m<cell line: 2>\u001b[0;34m()\u001b[0m\n\u001b[1;32m      1\u001b[0m \u001b[0mprint\u001b[0m\u001b[0;34m(\u001b[0m\u001b[0;34m\"Start messaging with the bot (type quit to stop)!\"\u001b[0m\u001b[0;34m)\u001b[0m\u001b[0;34m\u001b[0m\u001b[0;34m\u001b[0m\u001b[0m\n\u001b[0;32m----> 2\u001b[0;31m \u001b[0mchat\u001b[0m\u001b[0;34m(\u001b[0m\u001b[0;34m)\u001b[0m\u001b[0;34m\u001b[0m\u001b[0;34m\u001b[0m\u001b[0m\n\u001b[0m",
            "\u001b[0;32m<ipython-input-41-9a610b265635>\u001b[0m in \u001b[0;36mchat\u001b[0;34m()\u001b[0m\n\u001b[1;32m     20\u001b[0m \u001b[0;32mdef\u001b[0m \u001b[0mchat\u001b[0m\u001b[0;34m(\u001b[0m\u001b[0;34m)\u001b[0m\u001b[0;34m:\u001b[0m\u001b[0;34m\u001b[0m\u001b[0;34m\u001b[0m\u001b[0m\n\u001b[1;32m     21\u001b[0m     \u001b[0;31m# load trained model\u001b[0m\u001b[0;34m\u001b[0m\u001b[0;34m\u001b[0m\u001b[0m\n\u001b[0;32m---> 22\u001b[0;31m     \u001b[0mmodel\u001b[0m \u001b[0;34m=\u001b[0m \u001b[0mkeras\u001b[0m\u001b[0;34m.\u001b[0m\u001b[0mmodels\u001b[0m\u001b[0;34m.\u001b[0m\u001b[0mload_model\u001b[0m\u001b[0;34m(\u001b[0m\u001b[0;34m'/content/drive/MyDrive/custom/model1'\u001b[0m\u001b[0;34m)\u001b[0m\u001b[0;34m\u001b[0m\u001b[0;34m\u001b[0m\u001b[0m\n\u001b[0m\u001b[1;32m     23\u001b[0m \u001b[0;34m\u001b[0m\u001b[0m\n\u001b[1;32m     24\u001b[0m     \u001b[0;31m# load tokenizer object\u001b[0m\u001b[0;34m\u001b[0m\u001b[0;34m\u001b[0m\u001b[0m\n",
            "\u001b[0;32m/usr/local/lib/python3.10/dist-packages/keras/src/saving/saving_api.py\u001b[0m in \u001b[0;36mload_model\u001b[0;34m(filepath, custom_objects, compile, safe_mode, **kwargs)\u001b[0m\n\u001b[1;32m    260\u001b[0m \u001b[0;34m\u001b[0m\u001b[0m\n\u001b[1;32m    261\u001b[0m     \u001b[0;31m# Legacy case.\u001b[0m\u001b[0;34m\u001b[0m\u001b[0;34m\u001b[0m\u001b[0m\n\u001b[0;32m--> 262\u001b[0;31m     return legacy_sm_saving_lib.load_model(\n\u001b[0m\u001b[1;32m    263\u001b[0m         \u001b[0mfilepath\u001b[0m\u001b[0;34m,\u001b[0m \u001b[0mcustom_objects\u001b[0m\u001b[0;34m=\u001b[0m\u001b[0mcustom_objects\u001b[0m\u001b[0;34m,\u001b[0m \u001b[0mcompile\u001b[0m\u001b[0;34m=\u001b[0m\u001b[0mcompile\u001b[0m\u001b[0;34m,\u001b[0m \u001b[0;34m**\u001b[0m\u001b[0mkwargs\u001b[0m\u001b[0;34m\u001b[0m\u001b[0;34m\u001b[0m\u001b[0m\n\u001b[1;32m    264\u001b[0m     )\n",
            "\u001b[0;32m/usr/local/lib/python3.10/dist-packages/keras/src/utils/traceback_utils.py\u001b[0m in \u001b[0;36merror_handler\u001b[0;34m(*args, **kwargs)\u001b[0m\n\u001b[1;32m     68\u001b[0m             \u001b[0;31m# To get the full stack trace, call:\u001b[0m\u001b[0;34m\u001b[0m\u001b[0;34m\u001b[0m\u001b[0m\n\u001b[1;32m     69\u001b[0m             \u001b[0;31m# `tf.debugging.disable_traceback_filtering()`\u001b[0m\u001b[0;34m\u001b[0m\u001b[0;34m\u001b[0m\u001b[0m\n\u001b[0;32m---> 70\u001b[0;31m             \u001b[0;32mraise\u001b[0m \u001b[0me\u001b[0m\u001b[0;34m.\u001b[0m\u001b[0mwith_traceback\u001b[0m\u001b[0;34m(\u001b[0m\u001b[0mfiltered_tb\u001b[0m\u001b[0;34m)\u001b[0m \u001b[0;32mfrom\u001b[0m \u001b[0;32mNone\u001b[0m\u001b[0;34m\u001b[0m\u001b[0;34m\u001b[0m\u001b[0m\n\u001b[0m\u001b[1;32m     71\u001b[0m         \u001b[0;32mfinally\u001b[0m\u001b[0;34m:\u001b[0m\u001b[0;34m\u001b[0m\u001b[0;34m\u001b[0m\u001b[0m\n\u001b[1;32m     72\u001b[0m             \u001b[0;32mdel\u001b[0m \u001b[0mfiltered_tb\u001b[0m\u001b[0;34m\u001b[0m\u001b[0;34m\u001b[0m\u001b[0m\n",
            "\u001b[0;32m/usr/local/lib/python3.10/dist-packages/keras/src/saving/legacy/save.py\u001b[0m in \u001b[0;36mload_model\u001b[0;34m(filepath, custom_objects, compile, options)\u001b[0m\n\u001b[1;32m    232\u001b[0m                     \u001b[0;32mif\u001b[0m \u001b[0misinstance\u001b[0m\u001b[0;34m(\u001b[0m\u001b[0mfilepath_str\u001b[0m\u001b[0;34m,\u001b[0m \u001b[0mstr\u001b[0m\u001b[0;34m)\u001b[0m\u001b[0;34m:\u001b[0m\u001b[0;34m\u001b[0m\u001b[0;34m\u001b[0m\u001b[0m\n\u001b[1;32m    233\u001b[0m                         \u001b[0;32mif\u001b[0m \u001b[0;32mnot\u001b[0m \u001b[0mtf\u001b[0m\u001b[0;34m.\u001b[0m\u001b[0mio\u001b[0m\u001b[0;34m.\u001b[0m\u001b[0mgfile\u001b[0m\u001b[0;34m.\u001b[0m\u001b[0mexists\u001b[0m\u001b[0;34m(\u001b[0m\u001b[0mfilepath_str\u001b[0m\u001b[0;34m)\u001b[0m\u001b[0;34m:\u001b[0m\u001b[0;34m\u001b[0m\u001b[0;34m\u001b[0m\u001b[0m\n\u001b[0;32m--> 234\u001b[0;31m                             raise IOError(\n\u001b[0m\u001b[1;32m    235\u001b[0m                                 \u001b[0;34mf\"No file or directory found at {filepath_str}\"\u001b[0m\u001b[0;34m\u001b[0m\u001b[0;34m\u001b[0m\u001b[0m\n\u001b[1;32m    236\u001b[0m                             )\n",
            "\u001b[0;31mOSError\u001b[0m: No file or directory found at /content/drive/MyDrive/custom/model1"
          ]
        }
      ]
    }
  ]
}